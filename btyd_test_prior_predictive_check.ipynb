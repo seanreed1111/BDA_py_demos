{
  "metadata": {
    "kernelspec": {
      "language": "python",
      "display_name": "Python 3",
      "name": "python3"
    },
    "language_info": {
      "pygments_lexer": "ipython3",
      "nbconvert_exporter": "python",
      "version": "3.6.4",
      "file_extension": ".py",
      "codemirror_mode": {
        "name": "ipython",
        "version": 3
      },
      "name": "python",
      "mimetype": "text/x-python"
    },
    "colab": {
      "name": "btyd-test-prior-predictive-check.ipynb",
      "provenance": [],
      "collapsed_sections": [],
      "include_colab_link": true
    }
  },
  "nbformat_minor": 0,
  "nbformat": 4,
  "cells": [
    {
      "cell_type": "markdown",
      "metadata": {
        "id": "view-in-github",
        "colab_type": "text"
      },
      "source": [
        "<a href=\"https://colab.research.google.com/github/seanreed1111/BDA_py_demos/blob/master/btyd_test_prior_predictive_check.ipynb\" target=\"_parent\"><img src=\"https://colab.research.google.com/assets/colab-badge.svg\" alt=\"Open In Colab\"/></a>"
      ]
    },
    {
      "cell_type": "markdown",
      "source": [
        "see also: \n",
        "- https://www.briancallander.com/posts/customer_lifetime_value/pareto-nbd.html\n",
        "- https://www.briancallander.com/posts/customer_lifetime_value/recency_frequency.Rmd\n",
        "- https://www.briancallander.com/posts/customer_lifetime_value/recency_frequency.html\n",
        "- https://github.com/mplatzer/BTYDplus/blob/master/R/pareto-nbd-mcmc.R\n",
        "- https://cran.r-project.org/web/packages/BTYD/BTYD.pdf\n",
        "- https://github.com/mplatzer/BTYDplus\n",
        "\n"
      ],
      "metadata": {
        "id": "eQA5kIjjxpuy"
      }
    },
    {
      "cell_type": "code",
      "source": [
        "# installlation required\n",
        "!pip install pyro-ppl=='1.8.0'\n"
      ],
      "metadata": {
        "colab": {
          "base_uri": "https://localhost:8080/"
        },
        "id": "uY7dTQrGT7o2",
        "outputId": "5d497f32-d2bf-48df-fb14-bb6c167c7a8e"
      },
      "execution_count": 1,
      "outputs": [
        {
          "output_type": "stream",
          "name": "stdout",
          "text": [
            "Collecting pyro-ppl==1.8.0\n",
            "  Downloading pyro_ppl-1.8.0-py3-none-any.whl (713 kB)\n",
            "\u001b[?25l\r\u001b[K     |▌                               | 10 kB 23.9 MB/s eta 0:00:01\r\u001b[K     |█                               | 20 kB 9.8 MB/s eta 0:00:01\r\u001b[K     |█▍                              | 30 kB 6.5 MB/s eta 0:00:01\r\u001b[K     |█▉                              | 40 kB 6.1 MB/s eta 0:00:01\r\u001b[K     |██▎                             | 51 kB 3.5 MB/s eta 0:00:01\r\u001b[K     |██▊                             | 61 kB 4.1 MB/s eta 0:00:01\r\u001b[K     |███▏                            | 71 kB 4.2 MB/s eta 0:00:01\r\u001b[K     |███▊                            | 81 kB 4.5 MB/s eta 0:00:01\r\u001b[K     |████▏                           | 92 kB 5.0 MB/s eta 0:00:01\r\u001b[K     |████▋                           | 102 kB 4.0 MB/s eta 0:00:01\r\u001b[K     |█████                           | 112 kB 4.0 MB/s eta 0:00:01\r\u001b[K     |█████▌                          | 122 kB 4.0 MB/s eta 0:00:01\r\u001b[K     |██████                          | 133 kB 4.0 MB/s eta 0:00:01\r\u001b[K     |██████▍                         | 143 kB 4.0 MB/s eta 0:00:01\r\u001b[K     |███████                         | 153 kB 4.0 MB/s eta 0:00:01\r\u001b[K     |███████▍                        | 163 kB 4.0 MB/s eta 0:00:01\r\u001b[K     |███████▉                        | 174 kB 4.0 MB/s eta 0:00:01\r\u001b[K     |████████▎                       | 184 kB 4.0 MB/s eta 0:00:01\r\u001b[K     |████████▊                       | 194 kB 4.0 MB/s eta 0:00:01\r\u001b[K     |█████████▏                      | 204 kB 4.0 MB/s eta 0:00:01\r\u001b[K     |█████████▋                      | 215 kB 4.0 MB/s eta 0:00:01\r\u001b[K     |██████████                      | 225 kB 4.0 MB/s eta 0:00:01\r\u001b[K     |██████████▋                     | 235 kB 4.0 MB/s eta 0:00:01\r\u001b[K     |███████████                     | 245 kB 4.0 MB/s eta 0:00:01\r\u001b[K     |███████████▌                    | 256 kB 4.0 MB/s eta 0:00:01\r\u001b[K     |████████████                    | 266 kB 4.0 MB/s eta 0:00:01\r\u001b[K     |████████████▍                   | 276 kB 4.0 MB/s eta 0:00:01\r\u001b[K     |████████████▉                   | 286 kB 4.0 MB/s eta 0:00:01\r\u001b[K     |█████████████▎                  | 296 kB 4.0 MB/s eta 0:00:01\r\u001b[K     |█████████████▉                  | 307 kB 4.0 MB/s eta 0:00:01\r\u001b[K     |██████████████▎                 | 317 kB 4.0 MB/s eta 0:00:01\r\u001b[K     |██████████████▊                 | 327 kB 4.0 MB/s eta 0:00:01\r\u001b[K     |███████████████▏                | 337 kB 4.0 MB/s eta 0:00:01\r\u001b[K     |███████████████▋                | 348 kB 4.0 MB/s eta 0:00:01\r\u001b[K     |████████████████                | 358 kB 4.0 MB/s eta 0:00:01\r\u001b[K     |████████████████▌               | 368 kB 4.0 MB/s eta 0:00:01\r\u001b[K     |█████████████████               | 378 kB 4.0 MB/s eta 0:00:01\r\u001b[K     |█████████████████▌              | 389 kB 4.0 MB/s eta 0:00:01\r\u001b[K     |██████████████████              | 399 kB 4.0 MB/s eta 0:00:01\r\u001b[K     |██████████████████▍             | 409 kB 4.0 MB/s eta 0:00:01\r\u001b[K     |██████████████████▉             | 419 kB 4.0 MB/s eta 0:00:01\r\u001b[K     |███████████████████▎            | 430 kB 4.0 MB/s eta 0:00:01\r\u001b[K     |███████████████████▊            | 440 kB 4.0 MB/s eta 0:00:01\r\u001b[K     |████████████████████▏           | 450 kB 4.0 MB/s eta 0:00:01\r\u001b[K     |████████████████████▊           | 460 kB 4.0 MB/s eta 0:00:01\r\u001b[K     |█████████████████████▏          | 471 kB 4.0 MB/s eta 0:00:01\r\u001b[K     |█████████████████████▋          | 481 kB 4.0 MB/s eta 0:00:01\r\u001b[K     |██████████████████████          | 491 kB 4.0 MB/s eta 0:00:01\r\u001b[K     |██████████████████████▌         | 501 kB 4.0 MB/s eta 0:00:01\r\u001b[K     |███████████████████████         | 512 kB 4.0 MB/s eta 0:00:01\r\u001b[K     |███████████████████████▍        | 522 kB 4.0 MB/s eta 0:00:01\r\u001b[K     |████████████████████████        | 532 kB 4.0 MB/s eta 0:00:01\r\u001b[K     |████████████████████████▍       | 542 kB 4.0 MB/s eta 0:00:01\r\u001b[K     |████████████████████████▉       | 552 kB 4.0 MB/s eta 0:00:01\r\u001b[K     |█████████████████████████▎      | 563 kB 4.0 MB/s eta 0:00:01\r\u001b[K     |█████████████████████████▊      | 573 kB 4.0 MB/s eta 0:00:01\r\u001b[K     |██████████████████████████▏     | 583 kB 4.0 MB/s eta 0:00:01\r\u001b[K     |██████████████████████████▋     | 593 kB 4.0 MB/s eta 0:00:01\r\u001b[K     |███████████████████████████     | 604 kB 4.0 MB/s eta 0:00:01\r\u001b[K     |███████████████████████████▋    | 614 kB 4.0 MB/s eta 0:00:01\r\u001b[K     |████████████████████████████    | 624 kB 4.0 MB/s eta 0:00:01\r\u001b[K     |████████████████████████████▌   | 634 kB 4.0 MB/s eta 0:00:01\r\u001b[K     |█████████████████████████████   | 645 kB 4.0 MB/s eta 0:00:01\r\u001b[K     |█████████████████████████████▍  | 655 kB 4.0 MB/s eta 0:00:01\r\u001b[K     |█████████████████████████████▉  | 665 kB 4.0 MB/s eta 0:00:01\r\u001b[K     |██████████████████████████████▎ | 675 kB 4.0 MB/s eta 0:00:01\r\u001b[K     |██████████████████████████████▉ | 686 kB 4.0 MB/s eta 0:00:01\r\u001b[K     |███████████████████████████████▎| 696 kB 4.0 MB/s eta 0:00:01\r\u001b[K     |███████████████████████████████▊| 706 kB 4.0 MB/s eta 0:00:01\r\u001b[K     |████████████████████████████████| 713 kB 4.0 MB/s \n",
            "\u001b[?25hRequirement already satisfied: numpy>=1.7 in /usr/local/lib/python3.7/dist-packages (from pyro-ppl==1.8.0) (1.21.5)\n",
            "Requirement already satisfied: tqdm>=4.36 in /usr/local/lib/python3.7/dist-packages (from pyro-ppl==1.8.0) (4.63.0)\n",
            "Collecting pyro-api>=0.1.1\n",
            "  Downloading pyro_api-0.1.2-py3-none-any.whl (11 kB)\n",
            "Requirement already satisfied: opt-einsum>=2.3.2 in /usr/local/lib/python3.7/dist-packages (from pyro-ppl==1.8.0) (3.3.0)\n",
            "Requirement already satisfied: torch>=1.9.0 in /usr/local/lib/python3.7/dist-packages (from pyro-ppl==1.8.0) (1.10.0+cu111)\n",
            "Requirement already satisfied: typing-extensions in /usr/local/lib/python3.7/dist-packages (from torch>=1.9.0->pyro-ppl==1.8.0) (3.10.0.2)\n",
            "Installing collected packages: pyro-api, pyro-ppl\n",
            "Successfully installed pyro-api-0.1.2 pyro-ppl-1.8.0\n"
          ]
        }
      ]
    },
    {
      "cell_type": "markdown",
      "source": [
        "<a id = \"7\"></a><br>\n",
        "# LIBRARIES"
      ],
      "metadata": {
        "id": "FGj7ZXnYisy4"
      }
    },
    {
      "cell_type": "code",
      "source": [
        "import os\n",
        "import datetime as dt\n",
        "import pandas as pd\n",
        "import seaborn as sns\n",
        "import numpy as np\n",
        "import matplotlib.pyplot as plt\n",
        "\n",
        "from scipy.stats import expon, poisson, uniform, lognorm\n",
        "\n",
        "import torch\n",
        "from torch.distributions import constraints\n",
        "from torch import tensor\n",
        "\n",
        "import pyro\n",
        "import pyro.distributions as dist\n",
        "from pyro.infer import SVI,Trace_ELBO\n",
        "from pyro.infer.autoguide  import AutoMultivariateNormal, AutoNormal, init_to_mean\n",
        "from pyro.optim import ClippedAdam\n",
        "\n",
        "# Set matplotlib settings\n",
        "%matplotlib inline\n",
        "plt.style.use('default')\n",
        "plt.rcParams['figure.figsize'] = [9, 6]\n",
        "import warnings \n",
        "warnings.filterwarnings(\"ignore\")"
      ],
      "metadata": {
        "execution": {
          "iopub.status.busy": "2021-09-15T11:59:37.295326Z",
          "iopub.execute_input": "2021-09-15T11:59:37.295724Z",
          "iopub.status.idle": "2021-09-15T11:59:53.721615Z",
          "shell.execute_reply.started": "2021-09-15T11:59:37.295626Z",
          "shell.execute_reply": "2021-09-15T11:59:53.720577Z"
        },
        "trusted": true,
        "id": "aKznBx1oisy5"
      },
      "execution_count": null,
      "outputs": []
    },
    {
      "cell_type": "markdown",
      "source": [
        "Let’s describe the model first by simulation. \n",
        "\n",
        "Suppose we have a company that is 2 years old and a total of 2000 customers, C, that have made at least one purchase from us. \n",
        "\n",
        "We’ll assume a linear rate of customer acquisition, so that the first purchase date is simply a uniform random variable over the 2 years of the company existance. These assumptions are just to keep the example concrete, and are not so important for understanding the model."
      ],
      "metadata": {
        "id": "M8XPw-evgBdu"
      }
    },
    {
      "cell_type": "markdown",
      "source": [
        "Each customer c∈C is assumed to have a certain lifetime, τc, starting on their join-date. \n",
        "\n",
        "During their lifetime, they will purchase at a constant rate, λc, so that they will make k∼Poisson(tλc) purchases over a time-interval t. \n",
        "\n",
        "Once their lifetime is over, they will stop purchasing. We only observe the customer for Tc units of time, and this observation time can be either larger or smaller than the lifetime, τc. \n",
        "\n",
        "Since we don’t observe τc itself, we will assume it follows an exponential distribution, i.e. τc∼Exp(μc)."
      ],
      "metadata": {
        "id": "MjtZTqtPgajd"
      }
    },
    {
      "cell_type": "code",
      "source": [
        ""
      ],
      "metadata": {
        "id": "BvV5LWUU8kNr"
      },
      "execution_count": null,
      "outputs": []
    },
    {
      "cell_type": "markdown",
      "source": [
        "## Helper Functions"
      ],
      "metadata": {
        "id": "U46ULj8YmIq_"
      }
    },
    {
      "cell_type": "code",
      "source": [
        "def create_T(n=10, max_obs_time=200):\n",
        "  '''\n",
        "  input \n",
        "  int n = number of customers to generate\n",
        "  int max_obs_time = max observation time in days\n",
        "\n",
        "  output: \n",
        "  customer observation time array T[n]. \n",
        "  Each T[n] is in interval [0, max_obs_time]\n",
        "  '''\n",
        "\n",
        "  return uniform.rvs(0, max_obs_time, size=n)\n",
        "\n",
        "def simulate_purchases(T, t_measurement, mean_customer_lifetime, mean_period_between_purchases):\n",
        "  '''\n",
        "  input: \n",
        "  T: observation time. This is the length of time they have been a customer\n",
        "  mean_customer_lifetime: mean_customer_lifetime\n",
        "  mean_period_between_purchases: mean_period_between_purchases\n",
        "\n",
        "  output:\n",
        "  k: number of purchases\n",
        "  T: observation time. This is the length of time they have been a customer\n",
        "  tau: actual lifetime for this customerm drawn from exponential distribution with mean_customer_lifetime\n",
        "  t_measurement - t: The final value of t is the time of customer's last purchase. so t_measurement - t is time since last purchase\n",
        "  '''\n",
        "  tau = expon.rvs(scale=mean_customer_lifetime) # actual lifetime for this customer\n",
        "  t,k = 0,0 # t = purchase time, k = number of purchases\n",
        "  wait = expon.rvs(scale=mean_period_between_purchases) # waiting time between purchases\n",
        "  while ((t + wait) <= min(T, tau)):\n",
        "    t = t + wait\n",
        "    k = k + 1\n",
        "    wait = expon.rvs(scale=mean_period_between_purchases)\n",
        "  return  k, T, tau, t_measurement - t #final value of t is time of last purchased\n",
        "\n",
        "simulate_purchases_vec = np.vectorize(simulate_purchases)\n",
        "\n",
        "def create_df(*,n, mean_lifetime, mean_period_between_purchases, max_obs_time=200, t_measurement=None):\n",
        "  '''\n",
        "  input: \n",
        "  mean_lifetime\n",
        "  mean_period_between_purchases\n",
        "  n: number of customers,\n",
        "  max_obs_time: maximum time the customer could have been observed\n",
        "  t_measurement: time of measurement. Sets to max_obs_time if None\n",
        "\n",
        "  output: \n",
        "  dataframe[['k','T','tau','t']] where\n",
        "\n",
        "  k: number of purchases\n",
        "  T: observation time. This is the length of time they have been a customer\n",
        "  tau: actual lifetime for this customerm drawn from exponential distribution with scale=mean_customer_lifetime\n",
        "  t_recency: time since customer's last purchase\n",
        "  '''\n",
        "  if t_measurement is None: \n",
        "    t_measurement = max_obs_time\n",
        "  \n",
        "  T = create_T(n, max_obs_time)\n",
        "  result = simulate_purchases_vec(T, t_measurement, mean_lifetime, mean_period_between_purchases)\n",
        "\n",
        "  return pd.DataFrame(result, index=['k','T','tau','t_recency']).T "
      ],
      "metadata": {
        "id": "wYOxTjogN8C0"
      },
      "execution_count": null,
      "outputs": []
    },
    {
      "cell_type": "code",
      "source": [
        "\n"
      ],
      "metadata": {
        "id": "315gCYPzNX33"
      },
      "execution_count": null,
      "outputs": []
    },
    {
      "cell_type": "markdown",
      "source": [
        "## Test Model Definition"
      ],
      "metadata": {
        "id": "GetrCeCLlpN6"
      }
    },
    {
      "cell_type": "code",
      "source": [
        "def model_test(t, T, k, prior_only=False):\n",
        "  '''\n",
        "  input:\n",
        "  vector t (nx1)  = time since most recent purchase (recency)\n",
        "  vector T (nx1) = total observation time\n",
        "  vector k (nx1) = number of purchases observed (k must be >= 2)\n",
        "\n",
        "  n, etau_alpha, etau_beta, Lambda_alpha, Lambda_beta are scalars\n",
        "  n = number of customers\n",
        "  etau_alpha, etau_beta are priors for etau\n",
        "  Lambda_alpha, Lambda_beta are priors for Lambda\n",
        "  '''\n",
        "  assert torch.all(k >=2.), \"There are illegal values of k. k must be >= 2\"\n",
        "\n",
        "  def loglik(Lambda, mu, t, T, k):\n",
        "    target = k * torch.log(Lambda) - torch.log(Lambda + mu)\n",
        "    n = Lambda.size(0)\n",
        "    for i in range(n):\n",
        "      target  = target + torch.logaddexp(torch.log(Lambda[i]) - (Lambda[i] + mu[i]) * T[i],\n",
        "                                        torch.log(mu[i]) - (Lambda[i] + mu[i]) * t[i]\n",
        "                                        )\n",
        "    return target\n",
        "  \n",
        "  tau_alpha = pyro.sample('tau_alpha', dist.Uniform(-1,1))\n",
        "  tau_beta = pyro.sample('tau_beta', dist.Uniform(-2,2))\n",
        "  Lambda_alpha = pyro.sample('Lambda_alpha', dist.Uniform(-3,3))\n",
        "  Lambda_beta = pyro.sample('Lambda_beta', dist.Uniform(-4,4))\n",
        "\n",
        "  if not prior_only:\n",
        "    with pyro.plate(\"data\", t.size(0)):\n",
        "      tau  = pyro.sample('tau', dist.Gamma(tau_alpha, tau_beta))\n",
        "      mu = 1./tau\n",
        "      Lambda = pyro.sample('Lambda', dist.Gamma(Lambda_alpha, Lambda_beta))\n",
        "    pyro.factor('loglik', loglik(Lambda, mu, t, T, k))"
      ],
      "metadata": {
        "id": "I8ImhM3cicce"
      },
      "execution_count": null,
      "outputs": []
    },
    {
      "cell_type": "markdown",
      "source": [
        "## original model"
      ],
      "metadata": {
        "id": "oIsYOACkk45H"
      }
    },
    {
      "cell_type": "code",
      "source": [
        "def model_one(t, T, k, prior_only=False):\n",
        "  '''\n",
        "  input:\n",
        "  vector t (nx1)  = time since most recent purchase (recency)\n",
        "  vector T (nx1) = total observation time\n",
        "  vector k (nx1) = number of purchases observed (k must be >= 2)\n",
        "\n",
        "  n, etau_alpha, etau_beta, Lambda_alpha, Lambda_beta are scalars\n",
        "  n = number of customers\n",
        "  etau_alpha, etau_beta are priors for etau\n",
        "  Lambda_alpha, Lambda_beta are priors for Lambda\n",
        "  '''\n",
        "  assert torch.all(k >=2.), \"There are illegal values of k. k must be >= 2\"\n",
        "\n",
        "  def loglik(Lambda, mu, t, T, k):\n",
        "    target = k * torch.log(Lambda) - torch.log(Lambda + mu)\n",
        "    n = Lambda.size(0)\n",
        "    for i in range(n):\n",
        "      target  = target + torch.logaddexp(torch.log(Lambda[i]) - (Lambda[i] + mu[i]) * T[i],\n",
        "                                        torch.log(mu[i]) - (Lambda[i] + mu[i]) * t[i]\n",
        "                                        )\n",
        "    return target\n",
        "  \n",
        "  # etau_alpha = pyro.sample('etau_alpha', dist.)\n",
        "  # etau_beta = pyro.sample('etau_beta', dist)\n",
        "  # Lambda_alpha = pyro.sample('Lambda_alpha', dist)\n",
        "  # Lambda_beta = pyro.sample('Lambda_beta', dist)\n",
        "\n",
        "  with pyro.plate(\"data\", t.size(0)):\n",
        "    etau  = pyro.sample('etau', dist.InverseGamma(etau_alpha, etau_beta))\n",
        "    mu = 1./etau\n",
        "    Lambda = pyro.sample('Lambda', dist.Gamma(Lambda_alpha, Lambda_beta))\n",
        "\n",
        "  if prior_only:\n",
        "    pyro.factor('loglik', loglik(Lambda, mu, t, T, k))\n",
        "  else:\n",
        "    pyro.factor('zero', 0)"
      ],
      "metadata": {
        "id": "UbZZAZQJfbb-"
      },
      "execution_count": null,
      "outputs": []
    },
    {
      "cell_type": "code",
      "source": [
        ""
      ],
      "metadata": {
        "id": "zJX96GcqiaRp"
      },
      "execution_count": null,
      "outputs": []
    },
    {
      "cell_type": "markdown",
      "source": [
        "## create data"
      ],
      "metadata": {
        "id": "IdaeP-s_k_zr"
      }
    },
    {
      "cell_type": "code",
      "source": [
        "data = create_df(n=100, mean_lifetime =100, mean_period_between_purchases =1)\n",
        "data = data[data['k'] >= 2.] # multiple purchases only\n",
        "data"
      ],
      "metadata": {
        "colab": {
          "base_uri": "https://localhost:8080/",
          "height": 423
        },
        "id": "yeiHkP2t_Jxo",
        "outputId": "c71cda8d-d101-433e-8aeb-8533af8035dd"
      },
      "execution_count": null,
      "outputs": [
        {
          "output_type": "execute_result",
          "data": {
            "text/plain": [
              "        k           T         tau   t_recency\n",
              "0   168.0  188.509841  158.895226   42.682328\n",
              "1     3.0    3.124555  170.205935  197.645883\n",
              "2   163.0  155.528632  144.923720   55.692812\n",
              "3   181.0  191.089931  224.397102    9.597502\n",
              "4    92.0  173.902102   90.132405  111.150713\n",
              "..    ...         ...         ...         ...\n",
              "95   54.0   76.303150   53.296304  146.743169\n",
              "96   30.0   34.769574   39.026367  165.981808\n",
              "97   58.0  135.154065   70.678546  129.680616\n",
              "98   14.0   73.297993   22.934546  177.343890\n",
              "99   42.0   43.964047   64.571977  156.218366\n",
              "\n",
              "[99 rows x 4 columns]"
            ],
            "text/html": [
              "\n",
              "  <div id=\"df-09c4a7aa-10e9-4fd9-97d6-b4c2621fd1cf\">\n",
              "    <div class=\"colab-df-container\">\n",
              "      <div>\n",
              "<style scoped>\n",
              "    .dataframe tbody tr th:only-of-type {\n",
              "        vertical-align: middle;\n",
              "    }\n",
              "\n",
              "    .dataframe tbody tr th {\n",
              "        vertical-align: top;\n",
              "    }\n",
              "\n",
              "    .dataframe thead th {\n",
              "        text-align: right;\n",
              "    }\n",
              "</style>\n",
              "<table border=\"1\" class=\"dataframe\">\n",
              "  <thead>\n",
              "    <tr style=\"text-align: right;\">\n",
              "      <th></th>\n",
              "      <th>k</th>\n",
              "      <th>T</th>\n",
              "      <th>tau</th>\n",
              "      <th>t_recency</th>\n",
              "    </tr>\n",
              "  </thead>\n",
              "  <tbody>\n",
              "    <tr>\n",
              "      <th>0</th>\n",
              "      <td>168.0</td>\n",
              "      <td>188.509841</td>\n",
              "      <td>158.895226</td>\n",
              "      <td>42.682328</td>\n",
              "    </tr>\n",
              "    <tr>\n",
              "      <th>1</th>\n",
              "      <td>3.0</td>\n",
              "      <td>3.124555</td>\n",
              "      <td>170.205935</td>\n",
              "      <td>197.645883</td>\n",
              "    </tr>\n",
              "    <tr>\n",
              "      <th>2</th>\n",
              "      <td>163.0</td>\n",
              "      <td>155.528632</td>\n",
              "      <td>144.923720</td>\n",
              "      <td>55.692812</td>\n",
              "    </tr>\n",
              "    <tr>\n",
              "      <th>3</th>\n",
              "      <td>181.0</td>\n",
              "      <td>191.089931</td>\n",
              "      <td>224.397102</td>\n",
              "      <td>9.597502</td>\n",
              "    </tr>\n",
              "    <tr>\n",
              "      <th>4</th>\n",
              "      <td>92.0</td>\n",
              "      <td>173.902102</td>\n",
              "      <td>90.132405</td>\n",
              "      <td>111.150713</td>\n",
              "    </tr>\n",
              "    <tr>\n",
              "      <th>...</th>\n",
              "      <td>...</td>\n",
              "      <td>...</td>\n",
              "      <td>...</td>\n",
              "      <td>...</td>\n",
              "    </tr>\n",
              "    <tr>\n",
              "      <th>95</th>\n",
              "      <td>54.0</td>\n",
              "      <td>76.303150</td>\n",
              "      <td>53.296304</td>\n",
              "      <td>146.743169</td>\n",
              "    </tr>\n",
              "    <tr>\n",
              "      <th>96</th>\n",
              "      <td>30.0</td>\n",
              "      <td>34.769574</td>\n",
              "      <td>39.026367</td>\n",
              "      <td>165.981808</td>\n",
              "    </tr>\n",
              "    <tr>\n",
              "      <th>97</th>\n",
              "      <td>58.0</td>\n",
              "      <td>135.154065</td>\n",
              "      <td>70.678546</td>\n",
              "      <td>129.680616</td>\n",
              "    </tr>\n",
              "    <tr>\n",
              "      <th>98</th>\n",
              "      <td>14.0</td>\n",
              "      <td>73.297993</td>\n",
              "      <td>22.934546</td>\n",
              "      <td>177.343890</td>\n",
              "    </tr>\n",
              "    <tr>\n",
              "      <th>99</th>\n",
              "      <td>42.0</td>\n",
              "      <td>43.964047</td>\n",
              "      <td>64.571977</td>\n",
              "      <td>156.218366</td>\n",
              "    </tr>\n",
              "  </tbody>\n",
              "</table>\n",
              "<p>99 rows × 4 columns</p>\n",
              "</div>\n",
              "      <button class=\"colab-df-convert\" onclick=\"convertToInteractive('df-09c4a7aa-10e9-4fd9-97d6-b4c2621fd1cf')\"\n",
              "              title=\"Convert this dataframe to an interactive table.\"\n",
              "              style=\"display:none;\">\n",
              "        \n",
              "  <svg xmlns=\"http://www.w3.org/2000/svg\" height=\"24px\"viewBox=\"0 0 24 24\"\n",
              "       width=\"24px\">\n",
              "    <path d=\"M0 0h24v24H0V0z\" fill=\"none\"/>\n",
              "    <path d=\"M18.56 5.44l.94 2.06.94-2.06 2.06-.94-2.06-.94-.94-2.06-.94 2.06-2.06.94zm-11 1L8.5 8.5l.94-2.06 2.06-.94-2.06-.94L8.5 2.5l-.94 2.06-2.06.94zm10 10l.94 2.06.94-2.06 2.06-.94-2.06-.94-.94-2.06-.94 2.06-2.06.94z\"/><path d=\"M17.41 7.96l-1.37-1.37c-.4-.4-.92-.59-1.43-.59-.52 0-1.04.2-1.43.59L10.3 9.45l-7.72 7.72c-.78.78-.78 2.05 0 2.83L4 21.41c.39.39.9.59 1.41.59.51 0 1.02-.2 1.41-.59l7.78-7.78 2.81-2.81c.8-.78.8-2.07 0-2.86zM5.41 20L4 18.59l7.72-7.72 1.47 1.35L5.41 20z\"/>\n",
              "  </svg>\n",
              "      </button>\n",
              "      \n",
              "  <style>\n",
              "    .colab-df-container {\n",
              "      display:flex;\n",
              "      flex-wrap:wrap;\n",
              "      gap: 12px;\n",
              "    }\n",
              "\n",
              "    .colab-df-convert {\n",
              "      background-color: #E8F0FE;\n",
              "      border: none;\n",
              "      border-radius: 50%;\n",
              "      cursor: pointer;\n",
              "      display: none;\n",
              "      fill: #1967D2;\n",
              "      height: 32px;\n",
              "      padding: 0 0 0 0;\n",
              "      width: 32px;\n",
              "    }\n",
              "\n",
              "    .colab-df-convert:hover {\n",
              "      background-color: #E2EBFA;\n",
              "      box-shadow: 0px 1px 2px rgba(60, 64, 67, 0.3), 0px 1px 3px 1px rgba(60, 64, 67, 0.15);\n",
              "      fill: #174EA6;\n",
              "    }\n",
              "\n",
              "    [theme=dark] .colab-df-convert {\n",
              "      background-color: #3B4455;\n",
              "      fill: #D2E3FC;\n",
              "    }\n",
              "\n",
              "    [theme=dark] .colab-df-convert:hover {\n",
              "      background-color: #434B5C;\n",
              "      box-shadow: 0px 1px 3px 1px rgba(0, 0, 0, 0.15);\n",
              "      filter: drop-shadow(0px 1px 2px rgba(0, 0, 0, 0.3));\n",
              "      fill: #FFFFFF;\n",
              "    }\n",
              "  </style>\n",
              "\n",
              "      <script>\n",
              "        const buttonEl =\n",
              "          document.querySelector('#df-09c4a7aa-10e9-4fd9-97d6-b4c2621fd1cf button.colab-df-convert');\n",
              "        buttonEl.style.display =\n",
              "          google.colab.kernel.accessAllowed ? 'block' : 'none';\n",
              "\n",
              "        async function convertToInteractive(key) {\n",
              "          const element = document.querySelector('#df-09c4a7aa-10e9-4fd9-97d6-b4c2621fd1cf');\n",
              "          const dataTable =\n",
              "            await google.colab.kernel.invokeFunction('convertToInteractive',\n",
              "                                                     [key], {});\n",
              "          if (!dataTable) return;\n",
              "\n",
              "          const docLinkHtml = 'Like what you see? Visit the ' +\n",
              "            '<a target=\"_blank\" href=https://colab.research.google.com/notebooks/data_table.ipynb>data table notebook</a>'\n",
              "            + ' to learn more about interactive tables.';\n",
              "          element.innerHTML = '';\n",
              "          dataTable['output_type'] = 'display_data';\n",
              "          await google.colab.output.renderOutput(dataTable, element);\n",
              "          const docLink = document.createElement('div');\n",
              "          docLink.innerHTML = docLinkHtml;\n",
              "          element.appendChild(docLink);\n",
              "        }\n",
              "      </script>\n",
              "    </div>\n",
              "  </div>\n",
              "  "
            ]
          },
          "metadata": {},
          "execution_count": 13
        }
      ]
    },
    {
      "cell_type": "code",
      "source": [
        "t, T, k = tensor(data['t_recency'].values), tensor(data['T'].values), tensor(data['k'].values)"
      ],
      "metadata": {
        "id": "7AvwQoWQmod6"
      },
      "execution_count": null,
      "outputs": []
    },
    {
      "cell_type": "code",
      "source": [
        ""
      ],
      "metadata": {
        "id": "UI-Cb0TW_NXf"
      },
      "execution_count": null,
      "outputs": []
    },
    {
      "cell_type": "markdown",
      "source": [
        "## Perform MCMC"
      ],
      "metadata": {
        "id": "VA5Aa_Q1fkE6"
      }
    },
    {
      "cell_type": "code",
      "source": [
        "from pyro.infer import MCMC, NUTS\n",
        "model = model_test\n",
        "nuts_kernel = NUTS(model)\n",
        "mcmc = MCMC(nuts_kernel, num_samples=1000, warmup_steps=250)\n",
        "\n",
        "mcmc.run(t, T, k, prior_only=True)"
      ],
      "metadata": {
        "id": "qN0a8ZjMa4H4",
        "colab": {
          "base_uri": "https://localhost:8080/"
        },
        "outputId": "481786fe-2c51-40fc-cbac-473de6bce86e"
      },
      "execution_count": null,
      "outputs": [
        {
          "output_type": "stream",
          "name": "stderr",
          "text": [
            "Sample: 100%|██████████| 1250/1250 [00:18, 68.45it/s, step size=7.08e-01, acc. prob=0.919]\n"
          ]
        }
      ]
    },
    {
      "cell_type": "code",
      "source": [
        "hmc_samples = {k: v.detach().cpu().numpy() for k, v in mcmc.get_samples().items()}\n",
        "hmc_samples.keys()"
      ],
      "metadata": {
        "id": "k5sSaGJthRW1",
        "colab": {
          "base_uri": "https://localhost:8080/"
        },
        "outputId": "3a14b2bd-ae83-44d5-aa74-f4be188ba716"
      },
      "execution_count": null,
      "outputs": [
        {
          "output_type": "execute_result",
          "data": {
            "text/plain": [
              "dict_keys(['Lambda_alpha', 'Lambda_beta', 'etau_alpha', 'etau_beta'])"
            ]
          },
          "metadata": {},
          "execution_count": 18
        }
      ]
    },
    {
      "cell_type": "code",
      "source": [
        "for key in hmc_samples.keys():\n",
        "  sns.kdeplot(data = hmc_samples[key])"
      ],
      "metadata": {
        "id": "7CBnPcwahRS7",
        "colab": {
          "base_uri": "https://localhost:8080/",
          "height": 522
        },
        "outputId": "16ef2a3d-90bc-4cb5-bb84-db79e92baeef"
      },
      "execution_count": null,
      "outputs": [
        {
          "output_type": "display_data",
          "data": {
            "text/plain": [
              "<Figure size 900x600 with 1 Axes>"
            ],
            "image/png": "[encoded data removed]"
          },
          "metadata": {}
        }
      ]
    },
    {
      "cell_type": "markdown",
      "source": [
        "## Centered BTYD"
      ],
      "metadata": {
        "id": "XZxpKYo-fWZU"
      }
    },
    {
      "cell_type": "code",
      "source": [
        "\n",
        "# https://www.briancallander.com/posts/customer_lifetime_value/models/rf.stan\n",
        "# data_hyperpriors <- list(\n",
        "#   log_life_mean_mu = log(31),\n",
        "#   log_life_mean_sigma = 0.7,\n",
        "#   log_life_scale_sigma = 0.8,\n",
        "\n",
        "#   log_lambda_mean_mu = log(1 / 14),\n",
        "#   log_lambda_mean_sigma = 0.3,\n",
        "#   log_lambda_scale_sigma = 0.5\n",
        "# )\n",
        "data {\n",
        "  int<lower = 1> n;       // number of customers\n",
        "  vector<lower = 0>[n] t; // time to most recent purchase\n",
        "  vector<lower = 0>[n] T; // total observation time\n",
        "  vector<lower = 0>[n] k; // number of purchases observed\n",
        "\n",
        "  // user-specified parameters\n",
        "  real<lower = 0> etau_mean_alpha;\n",
        "  real<lower = 0> etau_mean_beta;\n",
        "  real<lower = 0> etau_sd_alpha;\n",
        "  real<lower = 0> etau_sd_beta;\n",
        "\n",
        "  real<lower = 0> lambda_mean_alpha;\n",
        "  real<lower = 0> lambda_mean_beta;\n",
        "  real<lower = 0> lambda_sd_alpha;\n",
        "  real<lower = 0> lambda_sd_beta;\n",
        "}\n",
        "\n",
        "parameters {\n",
        "  vector<lower = 0>[n] lambda; // purchase rate\n",
        "  vector<lower = 0>[n] etau;   // expected mean lifetime\n",
        "\n",
        "  vector<lower = 0>[n] etau_mean; // mean expected life span\n",
        "  vector<lower = 0>[n] etau_sd;\n",
        "  vector<lower = 0>[n] lambda_mean; // mean purchase rate\n",
        "  vector<lower = 0>[n] lambda_sd;\n",
        "\n",
        "}\n",
        "\n",
        "transformed parameters {\n",
        "  vector<lower = 0>[n] etau_beta = etau_mean;\n",
        "  vector<lower = 0>[n] etau_alpha = etau_sd;\n",
        "  vector<lower = 0>[n] lambda_beta = lambda_mean ./ (lambda_sd .* lambda_sd);\n",
        "  vector<lower = 0>[n] lambda_alpha = lambda_beta .* lambda_mean;\n",
        "\n",
        "  vector<lower = 0>[n] mu = 1.0 ./ etau;\n",
        "}\n",
        "\n",
        "model {\n",
        "  // hyperpriors\n",
        "  etau_mean ~ gamma(etau_mean_alpha, etau_mean_beta);\n",
        "  etau_sd ~ gamma(etau_sd_alpha, etau_sd_beta);\n",
        "\n",
        "  lambda_mean ~ gamma(lambda_mean_alpha, lambda_mean_beta);\n",
        "  lambda_sd ~ gamma(lambda_sd_alpha, lambda_sd_beta);\n",
        "\n",
        "  // priors\n",
        "  etau ~ inv_gamma(etau_alpha, etau_beta);\n",
        "  lambda ~ gamma(lambda_alpha, lambda_beta);\n",
        "\n",
        "  // likelihood\n",
        "  target += k .* log(lambda) - log(lambda + mu);\n",
        "  for (i in 1:n) {\n",
        "    target += log_sum_exp(\n",
        "      log(lambda[i]) - (lambda[i] + mu[i]) .* T[i],\n",
        "      log(mu[i]) - (lambda[i] + mu[i]) .* t[i]\n",
        "    );\n",
        "  }\n",
        "}\n"
      ],
      "metadata": {
        "id": "Sme-1n-EhRG8"
      },
      "execution_count": null,
      "outputs": []
    },
    {
      "cell_type": "markdown",
      "source": [
        "## Non-centered BTYD"
      ],
      "metadata": {
        "id": "nUSy4aCHfbpl"
      }
    },
    {
      "cell_type": "code",
      "source": [
        "# non-centered BTYD\n",
        "# https://www.briancallander.com/posts/customer_lifetime_value/recency_frequency.html\n",
        "# https://www.briancallander.com/posts/customer_lifetime_value/models/rf_noncentred.stan\n",
        "\n",
        "data {\n",
        "  int<lower = 1> n;       // number of customers\n",
        "  vector<lower = 0>[n] t; // time between first and last purchase\n",
        "  vector<lower = 0>[n] T; // total observation time\n",
        "  vector<lower = 0>[n] k; // number of purchases\n",
        "\n",
        "  // hyperparameters for the expected lifetime\n",
        "  real log_life_mean_mu;\n",
        "  real<lower = 0> log_life_mean_sigma;\n",
        "  // hyperparameter for scale of customer-level lifetime effects\n",
        "  real<lower = 0> log_life_scale_sigma;\n",
        "\n",
        "  // hyperparameters for the expected purchase rate\n",
        "  real log_lambda_mean_mu;\n",
        "  real<lower = 0> log_lambda_mean_sigma;\n",
        "  // hyperparameter for scale of customer-level purchase-rate effects\n",
        "  real<lower = 0> log_lambda_scale_sigma;\n",
        "\n",
        "  // flag whether to only sample from the prior\n",
        "  // to draw from the prior-predictive distribution: prior_only = 1\n",
        "  // to draw from the posterior distribution: prior_only = 0\n",
        "  int<lower = 0, upper = 1> prior_only;\n",
        "}\n",
        "\n",
        "transformed data {\n",
        "  vector<lower = 0, upper = 0>[2] zero = rep_vector(0, 2);\n",
        "  vector[2] J = [-1, 1]';\n",
        "  vector[2] m = [log_life_mean_mu, log_lambda_mean_mu]';\n",
        "  matrix<lower = 0>[2, 2] m_sigma = diag_matrix([log_life_mean_sigma, log_lambda_mean_sigma]');\n",
        "  matrix<lower = 0>[2, 2] s_sigma = diag_matrix([log_life_scale_sigma, log_lambda_scale_sigma]');\n",
        "}\n",
        "\n",
        "parameters {\n",
        "  row_vector[2] log_centres;\n",
        "  vector<lower = 0>[2] scales;\n",
        "  matrix[n, 2] customer; // customer-level effects\n",
        "}\n",
        "\n",
        "transformed parameters {\n",
        "  matrix<lower = 0>[n, 2] theta = exp(\n",
        "    diag_post_multiply(\n",
        "      rep_matrix(log_centres, n) + diag_post_multiply(customer, scales),\n",
        "      J\n",
        "    )\n",
        "  ); // (mu, lambda)\n",
        "}\n",
        "\n",
        "model {\n",
        "  // priors\n",
        "  log_centres ~ multi_normal_cholesky(m, m_sigma);\n",
        "  scales ~ multi_normal_cholesky(zero, s_sigma);\n",
        "\n",
        "  for (i in 1:n) {\n",
        "\n",
        "    customer[i, ] ~ std_normal();\n",
        "\n",
        "    // likelihood\n",
        "    if (prior_only == 0) {\n",
        "      target += log_sum_exp(\n",
        "        log(theta[i, 2]) - (theta[i, 2] + theta[i, 1]) .* T[i],\n",
        "        log(theta[i, 1]) - (theta[i, 2] + theta[i, 1]) .* t[i]\n",
        "      );\n",
        "    }\n",
        "  }\n",
        "\n",
        "  if (prior_only == 0) {\n",
        "    target += k .* log(theta[, 2]) - log(theta[, 2] + theta[, 1]);\n",
        "  }\n",
        "\n",
        "}\n"
      ],
      "metadata": {
        "id": "Ro27nMERhRC0"
      },
      "execution_count": null,
      "outputs": []
    },
    {
      "cell_type": "code",
      "source": [
        ""
      ],
      "metadata": {
        "id": "Z0rsJXyYhQ-l"
      },
      "execution_count": null,
      "outputs": []
    },
    {
      "cell_type": "code",
      "source": [
        ""
      ],
      "metadata": {
        "id": "FH8phAQghQ6M"
      },
      "execution_count": null,
      "outputs": []
    },
    {
      "cell_type": "code",
      "source": [
        ""
      ],
      "metadata": {
        "id": "zEmNp40EhQ08"
      },
      "execution_count": null,
      "outputs": []
    },
    {
      "cell_type": "code",
      "source": [
        ""
      ],
      "metadata": {
        "id": "flVVOL4xhQv1"
      },
      "execution_count": null,
      "outputs": []
    },
    {
      "cell_type": "code",
      "source": [
        ""
      ],
      "metadata": {
        "id": "wdwtKGxghQoZ"
      },
      "execution_count": null,
      "outputs": []
    },
    {
      "cell_type": "code",
      "source": [
        ""
      ],
      "metadata": {
        "id": "z-qcdufPhQd4"
      },
      "execution_count": null,
      "outputs": []
    }
  ]
}