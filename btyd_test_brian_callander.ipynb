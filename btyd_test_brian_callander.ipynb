{
  "metadata": {
    "kernelspec": {
      "language": "python",
      "display_name": "Python 3",
      "name": "python3"
    },
    "language_info": {
      "pygments_lexer": "ipython3",
      "nbconvert_exporter": "python",
      "version": "3.6.4",
      "file_extension": ".py",
      "codemirror_mode": {
        "name": "ipython",
        "version": 3
      },
      "name": "python",
      "mimetype": "text/x-python"
    },
    "colab": {
      "name": "btyd-test-brian-callander.ipynb",
      "provenance": [],
      "include_colab_link": true
    }
  },
  "nbformat_minor": 0,
  "nbformat": 4,
  "cells": [
    {
      "cell_type": "markdown",
      "metadata": {
        "id": "view-in-github",
        "colab_type": "text"
      },
      "source": [
        "<a href=\"https://colab.research.google.com/github/seanreed1111/BDA_py_demos/blob/master/btyd_test_brian_callander.ipynb\" target=\"_parent\"><img src=\"https://colab.research.google.com/assets/colab-badge.svg\" alt=\"Open In Colab\"/></a>"
      ]
    },
    {
      "cell_type": "markdown",
      "source": [
        "see also: \n",
        "- https://www.briancallander.com/posts/customer_lifetime_value/pareto-nbd.html\n",
        "\n"
      ],
      "metadata": {
        "id": "eQA5kIjjxpuy"
      }
    },
    {
      "cell_type": "code",
      "source": [
        "# installlation required\n",
        "!pip install pyro-ppl\n"
      ],
      "metadata": {
        "colab": {
          "base_uri": "https://localhost:8080/"
        },
        "id": "uY7dTQrGT7o2",
        "outputId": "14969932-2d01-45ba-b6cf-4d76f4fee765"
      },
      "execution_count": 1,
      "outputs": [
        {
          "output_type": "stream",
          "name": "stdout",
          "text": [
            "Collecting pyro-ppl\n",
            "  Downloading pyro_ppl-1.8.0-py3-none-any.whl (713 kB)\n",
            "\u001b[K     |████████████████████████████████| 713 kB 3.1 MB/s \n",
            "\u001b[?25hRequirement already satisfied: numpy>=1.7 in /usr/local/lib/python3.7/dist-packages (from pyro-ppl) (1.21.5)\n",
            "Requirement already satisfied: opt-einsum>=2.3.2 in /usr/local/lib/python3.7/dist-packages (from pyro-ppl) (3.3.0)\n",
            "Requirement already satisfied: torch>=1.9.0 in /usr/local/lib/python3.7/dist-packages (from pyro-ppl) (1.10.0+cu111)\n",
            "Requirement already satisfied: tqdm>=4.36 in /usr/local/lib/python3.7/dist-packages (from pyro-ppl) (4.63.0)\n",
            "Collecting pyro-api>=0.1.1\n",
            "  Downloading pyro_api-0.1.2-py3-none-any.whl (11 kB)\n",
            "Requirement already satisfied: typing-extensions in /usr/local/lib/python3.7/dist-packages (from torch>=1.9.0->pyro-ppl) (3.10.0.2)\n",
            "Installing collected packages: pyro-api, pyro-ppl\n",
            "Successfully installed pyro-api-0.1.2 pyro-ppl-1.8.0\n"
          ]
        }
      ]
    },
    {
      "cell_type": "markdown",
      "source": [
        "<a id = \"7\"></a><br>\n",
        "# LIBRARIES"
      ],
      "metadata": {
        "id": "FGj7ZXnYisy4"
      }
    },
    {
      "cell_type": "code",
      "source": [
        "import os\n",
        "import datetime as dt\n",
        "import pandas as pd\n",
        "import seaborn as sns\n",
        "import matplotlib.pyplot as plt\n",
        "\n",
        "import torch\n",
        "from torch.distributions import constraints\n",
        "from torch import tensor\n",
        "\n",
        "import pyro\n",
        "import pyro.distributions as dist\n",
        "from pyro.infer import SVI,Trace_ELBO\n",
        "from pyro.infer.autoguide  import AutoMultivariateNormal, AutoNormal, init_to_mean\n",
        "from pyro.optim import ClippedAdam\n",
        "\n",
        "assert pyro.__version__.startswith('1.8.0')\n",
        "pyro.set_rng_seed(1)\n",
        "torch.manual_seed(1)\n",
        "\n",
        "# Set matplotlib settings\n",
        "%matplotlib inline\n",
        "plt.style.use('default')\n",
        "plt.rcParams['figure.figsize'] = [12, 8]\n",
        "import warnings \n",
        "warnings.filterwarnings(\"ignore\")\n",
        "\n"
      ],
      "metadata": {
        "execution": {
          "iopub.status.busy": "2021-09-15T11:59:37.295326Z",
          "iopub.execute_input": "2021-09-15T11:59:37.295724Z",
          "iopub.status.idle": "2021-09-15T11:59:53.721615Z",
          "shell.execute_reply.started": "2021-09-15T11:59:37.295626Z",
          "shell.execute_reply": "2021-09-15T11:59:53.720577Z"
        },
        "trusted": true,
        "id": "aKznBx1oisy5"
      },
      "execution_count": 2,
      "outputs": []
    },
    {
      "cell_type": "markdown",
      "source": [
        "Let’s describe the model first by simulation. \n",
        "\n",
        "Suppose we have a company that is 2 years old and a total of 2000 customers, C, that have made at least one purchase from us. \n",
        "\n",
        "We’ll assume a linear rate of customer acquisition, so that the first purchase date is simply a uniform random variable over the 2 years of the company existance. These assumptions are just to keep the example concrete, and are not so important for understanding the model."
      ],
      "metadata": {
        "id": "M8XPw-evgBdu"
      }
    },
    {
      "cell_type": "markdown",
      "source": [
        "Each customer c∈C is assumed to have a certain lifetime, τc, starting on their join-date. \n",
        "\n",
        "During their lifetime, they will purchase at a constant rate, λc, so that they will make k∼Poisson(tλc) purchases over a time-interval t. \n",
        "\n",
        "Once their lifetime is over, they will stop purchasing. We only observe the customer for Tc units of time, and this observation time can be either larger or smaller than the lifetime, τc. \n",
        "\n",
        "Since we don’t observe τc itself, we will assume it follows an exponential distribution, i.e. τc∼Exp(μc)."
      ],
      "metadata": {
        "id": "MjtZTqtPgajd"
      }
    },
    {
      "cell_type": "markdown",
      "source": [
        "The mean expected lifetime in our simulated example will be ~2 months, with a standard deviation of 30.\n",
        "\n",
        "The mean purchase rate will be once each 14 days, with a standard deviation of 0.05."
      ],
      "metadata": {
        "id": "dXd9AwlNfrtE"
      }
    },
    {
      "cell_type": "code",
      "source": [
        "#The following function generates possible observations given μ and λ.\n",
        "\n",
        "# sample_conditional <- function(mu, lambda, T) {\n",
        "  \n",
        "#   # lifetime\n",
        "#   tau <- rexp(1, mu)\n",
        "  \n",
        "#   # start with 0 purchases\n",
        "#   t <- 0\n",
        "#   k <- 0\n",
        "  \n",
        "#   # simulate time till next purchase\n",
        "#   wait <- rexp(1, lambda)\n",
        "  \n",
        "#   # keep purchasing till end of life/observation time\n",
        "#   while(t + wait <= pmin(T, tau)) {\n",
        "#     t <- t + wait\n",
        "#     k <- k + 1\n",
        "#     wait <- rexp(1, lambda)\n",
        "#   }\n",
        "  \n",
        "#   # return tabular data\n",
        "#   tibble(\n",
        "#     mu = mu,\n",
        "#     lambda = lambda,\n",
        "#     T = T,\n",
        "#     tau = tau,\n",
        "#     k = k,\n",
        "#     t = t\n",
        "#   )\n",
        "# }\n",
        "\n",
        "# s <- sample_conditional(0.01, 1, 30) "
      ],
      "metadata": {
        "id": "4rau53wMfpbc"
      },
      "execution_count": null,
      "outputs": []
    },
    {
      "cell_type": "code",
      "source": [
        "def sample_conditional(mu, lam, T):\n",
        "  tau = dist.Exponential(mu).sample()\n",
        "  t,k = tensor(0),tensor(0)\n",
        "  wait = dist.Exponential(lam).sample()\n",
        "  while (torch.add(t, wait) <= torch.minimum(T, tau)):\n",
        "    t = torch.add(t, wait)\n",
        "    k = k + 1\n",
        "    wait = dist.Exponential(lam).sample()\n",
        "  return mu, lam, T, tau, k\n"
      ],
      "metadata": {
        "id": "RDPhBWAXbbaV"
      },
      "execution_count": null,
      "outputs": []
    },
    {
      "cell_type": "markdown",
      "source": [
        "Priors\n",
        "Now the priors. Typically, μ and λ are given gamma priors, which we’ll use too. \n",
        "However, the expected mean lifetime 𝔼(τ)=1/μ is easier to reason about than μ, so we’ll put an inverse gamma distribution on 1/μ. \n",
        "The reciprocal of an inverse gamma distribution has a gamma distribution, so μ will still end up with a gamma distribution.\n",
        "\n"
      ],
      "metadata": {
        "id": "iOJAflVScbKl"
      }
    },
    {
      "cell_type": "code",
      "source": [
        "etau_mean = 60\n",
        "etau_variance = 30**2\n",
        "Lambda_mean = 1 / 14\n",
        "Lambda_variance = 0.05 **2\n",
        "etau_beta  = etau_mean**3 / etau_variance + etau_mean\n",
        "etau_alpha  = etau_mean**2 / etau_variance + 2\n",
        "\n",
        "Lambda_beta = Lambda_mean / Lambda_variance\n",
        "Lambda_alpha = Lambda_mean * Lambda_beta"
      ],
      "metadata": {
        "id": "6ytI2Ml7Ha9T"
      },
      "execution_count": null,
      "outputs": []
    },
    {
      "cell_type": "code",
      "source": [
        "def model(t_n, T_n, k_n):\n",
        "  '''\n",
        "  t_n, T_n, k_n are nx1 dimensional tensors\n",
        "  t_n  = time to most recent purchase\n",
        "  T_n  = total observation time\n",
        "  k_n  = number of purchases observed (k must be >= 2)\n",
        "\n",
        "  n, etau_alpha, etau_beta, Lambda_alpha, Lambda_beta are scalars\n",
        "  n = number of customers\n",
        "  etau_alpha, etau_beta are priors for etau\n",
        "  Lambda_alpha, Lambda_beta are priors for Lambda\n",
        "  '''\n",
        "\n",
        "\n",
        "  with pyro.plate(\"data\", t_n.size(0)):\n",
        "    etau  = pyro.sample('etau', dist.InverseGamma(etau_alpha, etau_beta))\n",
        "    mu = 1./etau\n",
        "    Lambda = pyro.sample('Lambda', dist.Gamma(Lambda_alpha, Lambda_beta))\n",
        "\n",
        "  pyro.factor('loglik', loglik(Lambda, mu, t_n, T_n, k_n))"
      ],
      "metadata": {
        "id": "UbZZAZQJfbb-"
      },
      "execution_count": null,
      "outputs": []
    },
    {
      "cell_type": "code",
      "source": [
        "def loglik(Lambda, mu, t, T, k):\n",
        "  target = k * torch.log(Lambda) - torch.log(Lambda + mu)\n",
        "  n = Lambda.size(0)\n",
        "  for i in range(n):\n",
        "    target  = target + torch.logaddexp(torch.log(Lambda[i]) - (Lambda[i] + mu[i]) * T[i],\n",
        "                                       torch.log(mu[i]) - (Lambda[i] + mu[i]) * t[i]\n",
        "                                       )\n",
        "  return target"
      ],
      "metadata": {
        "id": "vA_Jmj6FUCXt"
      },
      "execution_count": 3,
      "outputs": []
    },
    {
      "cell_type": "code",
      "source": [
        ""
      ],
      "metadata": {
        "id": "TWr6zeG0GAFs"
      },
      "execution_count": null,
      "outputs": []
    },
    {
      "cell_type": "code",
      "source": [
        "def create_customers(n, days_in_first_purchase_period):\n",
        "  '''\n",
        "  output = day of first purchase, T = days_in_first_purchase_period - day of first purchase )\n",
        "  '''\n",
        "  c = dist.Uniform(0, days_in_first_purchase_period).expand([n]).to_event(1).sample().floor()\n",
        "  return torch.stack([c,days_in_first_purchase_period - c], dim=1)"
      ],
      "metadata": {
        "id": "42zG14ANVcv9"
      },
      "execution_count": null,
      "outputs": []
    },
    {
      "cell_type": "code",
      "source": [
        " #create_customers(25,200) makes 25 customers who have their first purchase on given day. \n",
        " # T = 200 - day of first purchase\n",
        "create_customers(25,200)"
      ],
      "metadata": {
        "colab": {
          "base_uri": "https://localhost:8080/"
        },
        "id": "Jd8x0dSmVcm7",
        "outputId": "32c397c1-50ad-41ec-e902-879a0a5b3d7d"
      },
      "execution_count": null,
      "outputs": [
        {
          "output_type": "execute_result",
          "data": {
            "text/plain": [
              "tensor([[168.,  32.],\n",
              "        [170.,  30.],\n",
              "        [ 21., 179.],\n",
              "        [196.,   4.],\n",
              "        [  1., 199.],\n",
              "        [157.,  43.],\n",
              "        [107.,  93.],\n",
              "        [147.,  53.],\n",
              "        [ 45., 155.],\n",
              "        [160.,  40.],\n",
              "        [ 50., 150.],\n",
              "        [ 11., 189.],\n",
              "        [133.,  67.],\n",
              "        [154.,  46.],\n",
              "        [199.,   1.],\n",
              "        [ 89., 111.],\n",
              "        [196.,   4.],\n",
              "        [164.,  36.],\n",
              "        [ 50., 150.],\n",
              "        [ 22., 178.],\n",
              "        [156.,  44.],\n",
              "        [ 45., 155.],\n",
              "        [145.,  55.],\n",
              "        [ 14., 186.],\n",
              "        [172.,  28.]])"
            ]
          },
          "metadata": {},
          "execution_count": 20
        }
      ]
    },
    {
      "cell_type": "code",
      "source": [
        "# Given μ and λ, the CLV is calculated as follows. \n",
        "# The remaining lifetime is the lifetime minus the age of the customer. \n",
        "# So if the customer is estimated to have a lifetime of 1 year and has been a customer for 3 months already, \n",
        "# then the remaining lifetime will be 9 months.\n",
        "\n",
        "# lifetime <- function(n, mu, age=0) {\n",
        "#   rexp(n, mu) %>% \n",
        "#     `-`(age) %>% \n",
        "#     pmax(0) # remaining lifetime always >= 0\n",
        "# }\n",
        "\n"
      ],
      "metadata": {
        "id": "H_3rtGiBa21P"
      },
      "execution_count": null,
      "outputs": []
    },
    {
      "cell_type": "code",
      "source": [
        "# The number of purchases in a given timeframe (within the customer’s lifetime) is simply a poisson random variable.\n",
        "\n",
        "# purchases <- function(n, lambda, time) {\n",
        "#   rpois(n, lambda * time)\n",
        "# }"
      ],
      "metadata": {
        "id": "XUd_K_ada4UQ"
      },
      "execution_count": null,
      "outputs": []
    },
    {
      "cell_type": "code",
      "source": [
        ""
      ],
      "metadata": {
        "id": "qN0a8ZjMa4H4"
      },
      "execution_count": null,
      "outputs": []
    },
    {
      "cell_type": "code",
      "source": [
        "# To simulate the CLV, we just simulate a possible lifetime remaining, \n",
        "# then simulate the number of puchases in that timeframe. \n",
        "# Repeating many times gives us the distribution of the total number of purchases the customer is expected to make.\n",
        "\n",
        "# clv <- function(n, mu, lambda, age=0) {\n",
        "#   lifetime(n, mu, age) %>% \n",
        "#     purchases(n, lambda, .)\n",
        "# } "
      ],
      "metadata": {
        "id": "6LqF5vxyivz3"
      },
      "execution_count": null,
      "outputs": []
    },
    {
      "cell_type": "code",
      "source": [
        ""
      ],
      "metadata": {
        "id": "k5sSaGJthRW1"
      },
      "execution_count": null,
      "outputs": []
    },
    {
      "cell_type": "code",
      "source": [
        ""
      ],
      "metadata": {
        "id": "7CBnPcwahRS7"
      },
      "execution_count": null,
      "outputs": []
    },
    {
      "cell_type": "code",
      "source": [
        ""
      ],
      "metadata": {
        "id": "jdbkxzLohRPE"
      },
      "execution_count": null,
      "outputs": []
    },
    {
      "cell_type": "code",
      "source": [
        ""
      ],
      "metadata": {
        "id": "rbRoI1RthRK0"
      },
      "execution_count": null,
      "outputs": []
    },
    {
      "cell_type": "code",
      "source": [
        ""
      ],
      "metadata": {
        "id": "Sme-1n-EhRG8"
      },
      "execution_count": null,
      "outputs": []
    },
    {
      "cell_type": "code",
      "source": [
        ""
      ],
      "metadata": {
        "id": "Ro27nMERhRC0"
      },
      "execution_count": null,
      "outputs": []
    },
    {
      "cell_type": "code",
      "source": [
        ""
      ],
      "metadata": {
        "id": "Z0rsJXyYhQ-l"
      },
      "execution_count": null,
      "outputs": []
    },
    {
      "cell_type": "code",
      "source": [
        ""
      ],
      "metadata": {
        "id": "FH8phAQghQ6M"
      },
      "execution_count": null,
      "outputs": []
    },
    {
      "cell_type": "code",
      "source": [
        ""
      ],
      "metadata": {
        "id": "zEmNp40EhQ08"
      },
      "execution_count": null,
      "outputs": []
    },
    {
      "cell_type": "code",
      "source": [
        ""
      ],
      "metadata": {
        "id": "flVVOL4xhQv1"
      },
      "execution_count": null,
      "outputs": []
    },
    {
      "cell_type": "code",
      "source": [
        ""
      ],
      "metadata": {
        "id": "wdwtKGxghQoZ"
      },
      "execution_count": null,
      "outputs": []
    },
    {
      "cell_type": "code",
      "source": [
        ""
      ],
      "metadata": {
        "id": "z-qcdufPhQd4"
      },
      "execution_count": null,
      "outputs": []
    }
  ]
}