{
  "metadata": {
    "kernelspec": {
      "language": "python",
      "display_name": "Python 3",
      "name": "python3"
    },
    "language_info": {
      "pygments_lexer": "ipython3",
      "nbconvert_exporter": "python",
      "version": "3.6.4",
      "file_extension": ".py",
      "codemirror_mode": {
        "name": "ipython",
        "version": 3
      },
      "name": "python",
      "mimetype": "text/x-python"
    },
    "colab": {
      "name": "btyd-test-brian-callander-generate-simulated-data.ipynb",
      "provenance": [],
      "include_colab_link": true
    }
  },
  "nbformat_minor": 0,
  "nbformat": 4,
  "cells": [
    {
      "cell_type": "markdown",
      "metadata": {
        "id": "view-in-github",
        "colab_type": "text"
      },
      "source": [
        "<a href=\"https://colab.research.google.com/github/seanreed1111/BDA_py_demos/blob/master/btyd_test_brian_callander_generate_simulated_data.ipynb\" target=\"_parent\"><img src=\"https://colab.research.google.com/assets/colab-badge.svg\" alt=\"Open In Colab\"/></a>"
      ]
    },
    {
      "cell_type": "markdown",
      "source": [
        "see also: \n",
        "- https://www.briancallander.com/posts/customer_lifetime_value/pareto-nbd.html\n",
        "- https://www.briancallander.com/posts/customer_lifetime_value/recency_frequency.Rmd\n",
        "- https://www.briancallander.com/posts/customer_lifetime_value/recency_frequency.html\n",
        "- https://github.com/mplatzer/BTYDplus/blob/master/R/pareto-nbd-mcmc.R\n",
        "- https://cran.r-project.org/web/packages/BTYD/BTYD.pdf\n",
        "- https://github.com/mplatzer/BTYDplus\n",
        "\n"
      ],
      "metadata": {
        "id": "eQA5kIjjxpuy"
      }
    },
    {
      "cell_type": "code",
      "source": [
        "# installlation required\n",
        "!pip install pyro-ppl\n"
      ],
      "metadata": {
        "colab": {
          "base_uri": "https://localhost:8080/"
        },
        "id": "uY7dTQrGT7o2",
        "outputId": "da6e49b5-b629-4aff-e4bd-95bb41e52a27"
      },
      "execution_count": 1,
      "outputs": [
        {
          "output_type": "stream",
          "name": "stdout",
          "text": [
            "Collecting pyro-ppl\n",
            "  Downloading pyro_ppl-1.8.0-py3-none-any.whl (713 kB)\n",
            "\u001b[?25l\r\u001b[K     |▌                               | 10 kB 22.3 MB/s eta 0:00:01\r\u001b[K     |█                               | 20 kB 22.8 MB/s eta 0:00:01\r\u001b[K     |█▍                              | 30 kB 12.4 MB/s eta 0:00:01\r\u001b[K     |█▉                              | 40 kB 12.4 MB/s eta 0:00:01\r\u001b[K     |██▎                             | 51 kB 7.0 MB/s eta 0:00:01\r\u001b[K     |██▊                             | 61 kB 8.1 MB/s eta 0:00:01\r\u001b[K     |███▏                            | 71 kB 8.2 MB/s eta 0:00:01\r\u001b[K     |███▊                            | 81 kB 7.7 MB/s eta 0:00:01\r\u001b[K     |████▏                           | 92 kB 8.5 MB/s eta 0:00:01\r\u001b[K     |████▋                           | 102 kB 7.8 MB/s eta 0:00:01\r\u001b[K     |█████                           | 112 kB 7.8 MB/s eta 0:00:01\r\u001b[K     |█████▌                          | 122 kB 7.8 MB/s eta 0:00:01\r\u001b[K     |██████                          | 133 kB 7.8 MB/s eta 0:00:01\r\u001b[K     |██████▍                         | 143 kB 7.8 MB/s eta 0:00:01\r\u001b[K     |███████                         | 153 kB 7.8 MB/s eta 0:00:01\r\u001b[K     |███████▍                        | 163 kB 7.8 MB/s eta 0:00:01\r\u001b[K     |███████▉                        | 174 kB 7.8 MB/s eta 0:00:01\r\u001b[K     |████████▎                       | 184 kB 7.8 MB/s eta 0:00:01\r\u001b[K     |████████▊                       | 194 kB 7.8 MB/s eta 0:00:01\r\u001b[K     |█████████▏                      | 204 kB 7.8 MB/s eta 0:00:01\r\u001b[K     |█████████▋                      | 215 kB 7.8 MB/s eta 0:00:01\r\u001b[K     |██████████                      | 225 kB 7.8 MB/s eta 0:00:01\r\u001b[K     |██████████▋                     | 235 kB 7.8 MB/s eta 0:00:01\r\u001b[K     |███████████                     | 245 kB 7.8 MB/s eta 0:00:01\r\u001b[K     |███████████▌                    | 256 kB 7.8 MB/s eta 0:00:01\r\u001b[K     |████████████                    | 266 kB 7.8 MB/s eta 0:00:01\r\u001b[K     |████████████▍                   | 276 kB 7.8 MB/s eta 0:00:01\r\u001b[K     |████████████▉                   | 286 kB 7.8 MB/s eta 0:00:01\r\u001b[K     |█████████████▎                  | 296 kB 7.8 MB/s eta 0:00:01\r\u001b[K     |█████████████▉                  | 307 kB 7.8 MB/s eta 0:00:01\r\u001b[K     |██████████████▎                 | 317 kB 7.8 MB/s eta 0:00:01\r\u001b[K     |██████████████▊                 | 327 kB 7.8 MB/s eta 0:00:01\r\u001b[K     |███████████████▏                | 337 kB 7.8 MB/s eta 0:00:01\r\u001b[K     |███████████████▋                | 348 kB 7.8 MB/s eta 0:00:01\r\u001b[K     |████████████████                | 358 kB 7.8 MB/s eta 0:00:01\r\u001b[K     |████████████████▌               | 368 kB 7.8 MB/s eta 0:00:01\r\u001b[K     |█████████████████               | 378 kB 7.8 MB/s eta 0:00:01\r\u001b[K     |█████████████████▌              | 389 kB 7.8 MB/s eta 0:00:01\r\u001b[K     |██████████████████              | 399 kB 7.8 MB/s eta 0:00:01\r\u001b[K     |██████████████████▍             | 409 kB 7.8 MB/s eta 0:00:01\r\u001b[K     |██████████████████▉             | 419 kB 7.8 MB/s eta 0:00:01\r\u001b[K     |███████████████████▎            | 430 kB 7.8 MB/s eta 0:00:01\r\u001b[K     |███████████████████▊            | 440 kB 7.8 MB/s eta 0:00:01\r\u001b[K     |████████████████████▏           | 450 kB 7.8 MB/s eta 0:00:01\r\u001b[K     |████████████████████▊           | 460 kB 7.8 MB/s eta 0:00:01\r\u001b[K     |█████████████████████▏          | 471 kB 7.8 MB/s eta 0:00:01\r\u001b[K     |█████████████████████▋          | 481 kB 7.8 MB/s eta 0:00:01\r\u001b[K     |██████████████████████          | 491 kB 7.8 MB/s eta 0:00:01\r\u001b[K     |██████████████████████▌         | 501 kB 7.8 MB/s eta 0:00:01\r\u001b[K     |███████████████████████         | 512 kB 7.8 MB/s eta 0:00:01\r\u001b[K     |███████████████████████▍        | 522 kB 7.8 MB/s eta 0:00:01\r\u001b[K     |████████████████████████        | 532 kB 7.8 MB/s eta 0:00:01\r\u001b[K     |████████████████████████▍       | 542 kB 7.8 MB/s eta 0:00:01\r\u001b[K     |████████████████████████▉       | 552 kB 7.8 MB/s eta 0:00:01\r\u001b[K     |█████████████████████████▎      | 563 kB 7.8 MB/s eta 0:00:01\r\u001b[K     |█████████████████████████▊      | 573 kB 7.8 MB/s eta 0:00:01\r\u001b[K     |██████████████████████████▏     | 583 kB 7.8 MB/s eta 0:00:01\r\u001b[K     |██████████████████████████▋     | 593 kB 7.8 MB/s eta 0:00:01\r\u001b[K     |███████████████████████████     | 604 kB 7.8 MB/s eta 0:00:01\r\u001b[K     |███████████████████████████▋    | 614 kB 7.8 MB/s eta 0:00:01\r\u001b[K     |████████████████████████████    | 624 kB 7.8 MB/s eta 0:00:01\r\u001b[K     |████████████████████████████▌   | 634 kB 7.8 MB/s eta 0:00:01\r\u001b[K     |█████████████████████████████   | 645 kB 7.8 MB/s eta 0:00:01\r\u001b[K     |█████████████████████████████▍  | 655 kB 7.8 MB/s eta 0:00:01\r\u001b[K     |█████████████████████████████▉  | 665 kB 7.8 MB/s eta 0:00:01\r\u001b[K     |██████████████████████████████▎ | 675 kB 7.8 MB/s eta 0:00:01\r\u001b[K     |██████████████████████████████▉ | 686 kB 7.8 MB/s eta 0:00:01\r\u001b[K     |███████████████████████████████▎| 696 kB 7.8 MB/s eta 0:00:01\r\u001b[K     |███████████████████████████████▊| 706 kB 7.8 MB/s eta 0:00:01\r\u001b[K     |████████████████████████████████| 713 kB 7.8 MB/s \n",
            "\u001b[?25hRequirement already satisfied: numpy>=1.7 in /usr/local/lib/python3.7/dist-packages (from pyro-ppl) (1.21.5)\n",
            "Requirement already satisfied: opt-einsum>=2.3.2 in /usr/local/lib/python3.7/dist-packages (from pyro-ppl) (3.3.0)\n",
            "Collecting pyro-api>=0.1.1\n",
            "  Downloading pyro_api-0.1.2-py3-none-any.whl (11 kB)\n",
            "Requirement already satisfied: tqdm>=4.36 in /usr/local/lib/python3.7/dist-packages (from pyro-ppl) (4.63.0)\n",
            "Requirement already satisfied: torch>=1.9.0 in /usr/local/lib/python3.7/dist-packages (from pyro-ppl) (1.10.0+cu111)\n",
            "Requirement already satisfied: typing-extensions in /usr/local/lib/python3.7/dist-packages (from torch>=1.9.0->pyro-ppl) (3.10.0.2)\n",
            "Installing collected packages: pyro-api, pyro-ppl\n",
            "Successfully installed pyro-api-0.1.2 pyro-ppl-1.8.0\n"
          ]
        }
      ]
    },
    {
      "cell_type": "markdown",
      "source": [
        "<a id = \"7\"></a><br>\n",
        "# LIBRARIES"
      ],
      "metadata": {
        "id": "FGj7ZXnYisy4"
      }
    },
    {
      "cell_type": "code",
      "source": [
        "import os\n",
        "import datetime as dt\n",
        "import pandas as pd\n",
        "import seaborn as sns\n",
        "import numpy as np\n",
        "import matplotlib.pyplot as plt\n",
        "\n",
        "from scipy.stats import expon, poisson, invgamma, uniform, lognorm\n",
        "\n",
        "import torch\n",
        "from torch.distributions import constraints\n",
        "from torch import tensor\n",
        "\n",
        "import pyro\n",
        "import pyro.distributions as dist\n",
        "from pyro.infer import SVI,Trace_ELBO\n",
        "from pyro.infer.autoguide  import AutoMultivariateNormal, AutoNormal, init_to_mean\n",
        "from pyro.optim import ClippedAdam\n",
        "\n",
        "# Set matplotlib settings\n",
        "%matplotlib inline\n",
        "plt.style.use('default')\n",
        "plt.rcParams['figure.figsize'] = [9, 6]\n",
        "import warnings \n",
        "warnings.filterwarnings(\"ignore\")"
      ],
      "metadata": {
        "execution": {
          "iopub.status.busy": "2021-09-15T11:59:37.295326Z",
          "iopub.execute_input": "2021-09-15T11:59:37.295724Z",
          "iopub.status.idle": "2021-09-15T11:59:53.721615Z",
          "shell.execute_reply.started": "2021-09-15T11:59:37.295626Z",
          "shell.execute_reply": "2021-09-15T11:59:53.720577Z"
        },
        "trusted": true,
        "id": "aKznBx1oisy5"
      },
      "execution_count": 2,
      "outputs": []
    },
    {
      "cell_type": "markdown",
      "source": [
        "Let’s describe the model first by simulation. \n",
        "\n",
        "Suppose we have a company that is 2 years old and a total of 2000 customers, C, that have made at least one purchase from us. \n",
        "\n",
        "We’ll assume a linear rate of customer acquisition, so that the first purchase date is simply a uniform random variable over the 2 years of the company existance. These assumptions are just to keep the example concrete, and are not so important for understanding the model."
      ],
      "metadata": {
        "id": "M8XPw-evgBdu"
      }
    },
    {
      "cell_type": "markdown",
      "source": [
        "Each customer c∈C is assumed to have a certain lifetime, τc, starting on their join-date. \n",
        "\n",
        "During their lifetime, they will purchase at a constant rate, λc, so that they will make k∼Poisson(tλc) purchases over a time-interval t. \n",
        "\n",
        "Once their lifetime is over, they will stop purchasing. We only observe the customer for Tc units of time, and this observation time can be either larger or smaller than the lifetime, τc. \n",
        "\n",
        "Since we don’t observe τc itself, we will assume it follows an exponential distribution, i.e. τc∼Exp(μc)."
      ],
      "metadata": {
        "id": "MjtZTqtPgajd"
      }
    },
    {
      "cell_type": "code",
      "source": [
        "def create_T(n=10, max_obs_time=200):\n",
        "  '''\n",
        "  input \n",
        "  int n = number of customers to generate\n",
        "  int max_obs_time = max observation time in days\n",
        "\n",
        "  output: \n",
        "  customer observation time array T[n]. \n",
        "  Each T[n] is in interval [0, max_obs_time]\n",
        "  '''\n",
        "\n",
        "  return uniform.rvs(0, max_obs_time, size=n)"
      ],
      "metadata": {
        "id": "42zG14ANVcv9"
      },
      "execution_count": 6,
      "outputs": []
    },
    {
      "cell_type": "code",
      "source": [
        "T = create_T()\n",
        "T"
      ],
      "metadata": {
        "colab": {
          "base_uri": "https://localhost:8080/"
        },
        "id": "mFGWlUQk8BwM",
        "outputId": "31a5a905-c85b-453e-e53c-37ddf02dcb32"
      },
      "execution_count": 23,
      "outputs": [
        {
          "output_type": "execute_result",
          "data": {
            "text/plain": [
              "array([ 90.78245164,  63.13553682, 191.8134323 ,  60.35455361,\n",
              "       119.7012043 , 114.63375656,  95.638578  ,  35.7824697 ,\n",
              "        80.26060854,  95.07538428])"
            ]
          },
          "metadata": {},
          "execution_count": 23
        }
      ]
    },
    {
      "cell_type": "code",
      "source": [
        "mean_period_between_purchases = 1 \n",
        "mean_customer_lifetime = 100"
      ],
      "metadata": {
        "id": "BvV5LWUU8kNr"
      },
      "execution_count": 28,
      "outputs": []
    },
    {
      "cell_type": "code",
      "source": [
        "def simulate_purchases(T, mean_customer_lifetime, mean_period_between_purchases):\n",
        "  '''\n",
        "  input: \n",
        "  T: observation time. This is the length of time they have been a customer\n",
        "  mean_customer_lifetime: mean_customer_lifetime\n",
        "  mean_period_between_purchases: mean_period_between_purchases\n",
        "\n",
        "  output:\n",
        "  k: number of purchases\n",
        "  T: observation time. This is the length of time they have been a customer\n",
        "  tau: actual lifetime for this customerm drawn from exponential distribution with mean_customer_lifetime\n",
        "  t: time of customer's last purchase\n",
        "  '''\n",
        "  tau = expon.rvs(scale=mean_customer_lifetime) # actual lifetime for this customer\n",
        "  t,k = 0,0 # t = purchase time, k = number of purchases\n",
        "  wait = expon.rvs(scale=mean_period_between_purchases) # waiting time between purchases\n",
        "  while ((t + wait) <= min(T, tau)):\n",
        "    t = t + wait\n",
        "    k = k + 1\n",
        "    wait = expon.rvs(scale=mean_period_between_purchases)\n",
        "  return  k, T, tau, t #final value of t is time of last purchase\n",
        "\n",
        "simulate_purchases_vec = np.vectorize(simulate_purchases)"
      ],
      "metadata": {
        "id": "wYOxTjogN8C0"
      },
      "execution_count": 35,
      "outputs": []
    },
    {
      "cell_type": "code",
      "source": [
        "data = expon.rvs(scale=mean_period_between_purchases, size=1000000)\n",
        "print(mean_period_between_purchases, data.min(), np.median(data), data.mean(), data.std(), data.max())\n",
        "sns.displot(data=data);"
      ],
      "metadata": {
        "colab": {
          "base_uri": "https://localhost:8080/",
          "height": 524
        },
        "id": "YPTWB8ikg7zJ",
        "outputId": "fa520d5d-0899-44c8-cd60-43cc5e00e1f9"
      },
      "execution_count": 36,
      "outputs": [
        {
          "output_type": "stream",
          "name": "stdout",
          "text": [
            "1 4.75976464387631e-07 0.6929080987519038 1.0009286405840263 1.0024947647665239 13.438950235210575\n"
          ]
        },
        {
          "output_type": "display_data",
          "data": {
            "text/plain": [
              "<Figure size 500x500 with 1 Axes>"
            ],
            "image/png": "[encoded data removed]"
          },
          "metadata": {}
        }
      ]
    },
    {
      "cell_type": "code",
      "source": [
        "data = expon.rvs(scale=mean_customer_lifetime, size=1000000)\n",
        "print(mean_customer_lifetime, data.min(), np.median(data), data.mean(), data.std(), data.max())\n",
        "sns.displot(data=data);"
      ],
      "metadata": {
        "colab": {
          "base_uri": "https://localhost:8080/",
          "height": 524
        },
        "id": "lRn90WGIkSzf",
        "outputId": "b989c10b-5519-455b-c5e9-26d751c7b4e0"
      },
      "execution_count": 37,
      "outputs": [
        {
          "output_type": "stream",
          "name": "stdout",
          "text": [
            "100 0.0002014114420417349 69.41795489769862 100.07022035193448 99.99629086816206 1337.2514022808593\n"
          ]
        },
        {
          "output_type": "display_data",
          "data": {
            "text/plain": [
              "<Figure size 500x500 with 1 Axes>"
            ],
            "image/png": "[encoded data removed]"
          },
          "metadata": {}
        }
      ]
    },
    {
      "cell_type": "code",
      "source": [
        "simulate_purchases_vec(T, mean_customer_lifetime, mean_period_between_purchases)\n"
      ],
      "metadata": {
        "colab": {
          "base_uri": "https://localhost:8080/"
        },
        "id": "zwTdK9lji-9k",
        "outputId": "0034b8a4-e217-42dd-e610-9d6eaf4dfc0c"
      },
      "execution_count": 38,
      "outputs": [
        {
          "output_type": "execute_result",
          "data": {
            "text/plain": [
              "(array([93, 60,  5,  2, 24,  0, 21, 29,  4, 42]),\n",
              " array([ 90.78245164,  63.13553682, 191.8134323 ,  60.35455361,\n",
              "        119.7012043 , 114.63375656,  95.638578  ,  35.7824697 ,\n",
              "         80.26060854,  95.07538428]),\n",
              " array([116.35955075,  48.59171837,   7.48375877,   0.86715912,\n",
              "         28.6832344 ,   1.76315469,  14.28295049, 378.86520492,\n",
              "          4.76639401,  42.69557929]),\n",
              " array([90.77567079, 48.26156242,  5.69068254,  0.38821391, 28.60555494,\n",
              "         0.        , 13.54563896, 30.29566219,  4.24105329, 40.92471405]))"
            ]
          },
          "metadata": {},
          "execution_count": 38
        }
      ]
    },
    {
      "cell_type": "code",
      "source": [
        ""
      ],
      "metadata": {
        "id": "M-4Tqy0skO8C"
      },
      "execution_count": null,
      "outputs": []
    },
    {
      "cell_type": "code",
      "source": [
        "def create_data(*,n, mean_lifetime, mean_period_between_purchases, max_obs_time=200):\n",
        "  '''\n",
        "  input: \n",
        "  mean_lifetime\n",
        "  mean_period_between_purchases\n",
        "  n: number of customers,\n",
        "  max_obs_time: maximum time the customer could have been observed\n",
        "\n",
        "  output: \n",
        "  dataframe[['k','T','tau','t']] where\n",
        "\n",
        "  k: number of purchases\n",
        "  T: observation time. This is the length of time they have been a customer\n",
        "  tau: actual lifetime for this customerm drawn from exponential distribution with scale=mean_customer_lifetime\n",
        "  t: time of customer's last purchase\n",
        "  '''\n",
        "  T = create_T(n, max_obs_time)\n",
        "  result = simulate_purchases_vec(T, mean_lifetime, mean_period_between_purchases)\n",
        "\n",
        "  return pd.DataFrame(result, index=['k','T','tau','t']).T \n"
      ],
      "metadata": {
        "id": "315gCYPzNX33"
      },
      "execution_count": 42,
      "outputs": []
    },
    {
      "cell_type": "code",
      "source": [
        "create_data(n=10, mean_lifetime =100, mean_period_between_purchases =1)"
      ],
      "metadata": {
        "colab": {
          "base_uri": "https://localhost:8080/",
          "height": 363
        },
        "id": "-Fzh-YiDQqLr",
        "outputId": "d644e755-f7f1-45ae-b0ae-64ba39922bc0"
      },
      "execution_count": 40,
      "outputs": [
        {
          "output_type": "execute_result",
          "data": {
            "text/plain": [
              "       k           T         tau       t_max\n",
              "0    1.0    5.639245    1.059101    0.030868\n",
              "1   59.0   60.751798  164.287549   59.892449\n",
              "2   67.0   69.015532  139.265912   68.305884\n",
              "3  142.0  125.782434  356.463870  125.198435\n",
              "4   22.0   31.675192   12.558741   11.916658\n",
              "5   33.0   82.737618   31.781039   31.161615\n",
              "6   17.0  126.469858   11.922652   11.635730\n",
              "7  194.0  195.826943  175.017481  174.261555\n",
              "8   36.0  139.826753   36.178851   34.469707\n",
              "9   20.0   17.776099   59.791641   17.702186"
            ],
            "text/html": [
              "\n",
              "  <div id=\"df-3fc8a520-e2f1-4fc7-b622-93298eb2c10b\">\n",
              "    <div class=\"colab-df-container\">\n",
              "      <div>\n",
              "<style scoped>\n",
              "    .dataframe tbody tr th:only-of-type {\n",
              "        vertical-align: middle;\n",
              "    }\n",
              "\n",
              "    .dataframe tbody tr th {\n",
              "        vertical-align: top;\n",
              "    }\n",
              "\n",
              "    .dataframe thead th {\n",
              "        text-align: right;\n",
              "    }\n",
              "</style>\n",
              "<table border=\"1\" class=\"dataframe\">\n",
              "  <thead>\n",
              "    <tr style=\"text-align: right;\">\n",
              "      <th></th>\n",
              "      <th>k</th>\n",
              "      <th>T</th>\n",
              "      <th>tau</th>\n",
              "      <th>t_max</th>\n",
              "    </tr>\n",
              "  </thead>\n",
              "  <tbody>\n",
              "    <tr>\n",
              "      <th>0</th>\n",
              "      <td>1.0</td>\n",
              "      <td>5.639245</td>\n",
              "      <td>1.059101</td>\n",
              "      <td>0.030868</td>\n",
              "    </tr>\n",
              "    <tr>\n",
              "      <th>1</th>\n",
              "      <td>59.0</td>\n",
              "      <td>60.751798</td>\n",
              "      <td>164.287549</td>\n",
              "      <td>59.892449</td>\n",
              "    </tr>\n",
              "    <tr>\n",
              "      <th>2</th>\n",
              "      <td>67.0</td>\n",
              "      <td>69.015532</td>\n",
              "      <td>139.265912</td>\n",
              "      <td>68.305884</td>\n",
              "    </tr>\n",
              "    <tr>\n",
              "      <th>3</th>\n",
              "      <td>142.0</td>\n",
              "      <td>125.782434</td>\n",
              "      <td>356.463870</td>\n",
              "      <td>125.198435</td>\n",
              "    </tr>\n",
              "    <tr>\n",
              "      <th>4</th>\n",
              "      <td>22.0</td>\n",
              "      <td>31.675192</td>\n",
              "      <td>12.558741</td>\n",
              "      <td>11.916658</td>\n",
              "    </tr>\n",
              "    <tr>\n",
              "      <th>5</th>\n",
              "      <td>33.0</td>\n",
              "      <td>82.737618</td>\n",
              "      <td>31.781039</td>\n",
              "      <td>31.161615</td>\n",
              "    </tr>\n",
              "    <tr>\n",
              "      <th>6</th>\n",
              "      <td>17.0</td>\n",
              "      <td>126.469858</td>\n",
              "      <td>11.922652</td>\n",
              "      <td>11.635730</td>\n",
              "    </tr>\n",
              "    <tr>\n",
              "      <th>7</th>\n",
              "      <td>194.0</td>\n",
              "      <td>195.826943</td>\n",
              "      <td>175.017481</td>\n",
              "      <td>174.261555</td>\n",
              "    </tr>\n",
              "    <tr>\n",
              "      <th>8</th>\n",
              "      <td>36.0</td>\n",
              "      <td>139.826753</td>\n",
              "      <td>36.178851</td>\n",
              "      <td>34.469707</td>\n",
              "    </tr>\n",
              "    <tr>\n",
              "      <th>9</th>\n",
              "      <td>20.0</td>\n",
              "      <td>17.776099</td>\n",
              "      <td>59.791641</td>\n",
              "      <td>17.702186</td>\n",
              "    </tr>\n",
              "  </tbody>\n",
              "</table>\n",
              "</div>\n",
              "      <button class=\"colab-df-convert\" onclick=\"convertToInteractive('df-3fc8a520-e2f1-4fc7-b622-93298eb2c10b')\"\n",
              "              title=\"Convert this dataframe to an interactive table.\"\n",
              "              style=\"display:none;\">\n",
              "        \n",
              "  <svg xmlns=\"http://www.w3.org/2000/svg\" height=\"24px\"viewBox=\"0 0 24 24\"\n",
              "       width=\"24px\">\n",
              "    <path d=\"M0 0h24v24H0V0z\" fill=\"none\"/>\n",
              "    <path d=\"M18.56 5.44l.94 2.06.94-2.06 2.06-.94-2.06-.94-.94-2.06-.94 2.06-2.06.94zm-11 1L8.5 8.5l.94-2.06 2.06-.94-2.06-.94L8.5 2.5l-.94 2.06-2.06.94zm10 10l.94 2.06.94-2.06 2.06-.94-2.06-.94-.94-2.06-.94 2.06-2.06.94z\"/><path d=\"M17.41 7.96l-1.37-1.37c-.4-.4-.92-.59-1.43-.59-.52 0-1.04.2-1.43.59L10.3 9.45l-7.72 7.72c-.78.78-.78 2.05 0 2.83L4 21.41c.39.39.9.59 1.41.59.51 0 1.02-.2 1.41-.59l7.78-7.78 2.81-2.81c.8-.78.8-2.07 0-2.86zM5.41 20L4 18.59l7.72-7.72 1.47 1.35L5.41 20z\"/>\n",
              "  </svg>\n",
              "      </button>\n",
              "      \n",
              "  <style>\n",
              "    .colab-df-container {\n",
              "      display:flex;\n",
              "      flex-wrap:wrap;\n",
              "      gap: 12px;\n",
              "    }\n",
              "\n",
              "    .colab-df-convert {\n",
              "      background-color: #E8F0FE;\n",
              "      border: none;\n",
              "      border-radius: 50%;\n",
              "      cursor: pointer;\n",
              "      display: none;\n",
              "      fill: #1967D2;\n",
              "      height: 32px;\n",
              "      padding: 0 0 0 0;\n",
              "      width: 32px;\n",
              "    }\n",
              "\n",
              "    .colab-df-convert:hover {\n",
              "      background-color: #E2EBFA;\n",
              "      box-shadow: 0px 1px 2px rgba(60, 64, 67, 0.3), 0px 1px 3px 1px rgba(60, 64, 67, 0.15);\n",
              "      fill: #174EA6;\n",
              "    }\n",
              "\n",
              "    [theme=dark] .colab-df-convert {\n",
              "      background-color: #3B4455;\n",
              "      fill: #D2E3FC;\n",
              "    }\n",
              "\n",
              "    [theme=dark] .colab-df-convert:hover {\n",
              "      background-color: #434B5C;\n",
              "      box-shadow: 0px 1px 3px 1px rgba(0, 0, 0, 0.15);\n",
              "      filter: drop-shadow(0px 1px 2px rgba(0, 0, 0, 0.3));\n",
              "      fill: #FFFFFF;\n",
              "    }\n",
              "  </style>\n",
              "\n",
              "      <script>\n",
              "        const buttonEl =\n",
              "          document.querySelector('#df-3fc8a520-e2f1-4fc7-b622-93298eb2c10b button.colab-df-convert');\n",
              "        buttonEl.style.display =\n",
              "          google.colab.kernel.accessAllowed ? 'block' : 'none';\n",
              "\n",
              "        async function convertToInteractive(key) {\n",
              "          const element = document.querySelector('#df-3fc8a520-e2f1-4fc7-b622-93298eb2c10b');\n",
              "          const dataTable =\n",
              "            await google.colab.kernel.invokeFunction('convertToInteractive',\n",
              "                                                     [key], {});\n",
              "          if (!dataTable) return;\n",
              "\n",
              "          const docLinkHtml = 'Like what you see? Visit the ' +\n",
              "            '<a target=\"_blank\" href=https://colab.research.google.com/notebooks/data_table.ipynb>data table notebook</a>'\n",
              "            + ' to learn more about interactive tables.';\n",
              "          element.innerHTML = '';\n",
              "          dataTable['output_type'] = 'display_data';\n",
              "          await google.colab.output.renderOutput(dataTable, element);\n",
              "          const docLink = document.createElement('div');\n",
              "          docLink.innerHTML = docLinkHtml;\n",
              "          element.appendChild(docLink);\n",
              "        }\n",
              "      </script>\n",
              "    </div>\n",
              "  </div>\n",
              "  "
            ]
          },
          "metadata": {},
          "execution_count": 40
        }
      ]
    },
    {
      "cell_type": "code",
      "source": [
        ""
      ],
      "metadata": {
        "id": "hE657neDHwFS"
      },
      "execution_count": null,
      "outputs": []
    },
    {
      "cell_type": "code",
      "source": [
        "def loglik(Lambda, mu, t, T, k):\n",
        "  target = k * torch.log(Lambda) - torch.log(Lambda + mu)\n",
        "  n = Lambda.size(0)\n",
        "  for i in range(n):\n",
        "    target  = target + torch.logaddexp(torch.log(Lambda[i]) - (Lambda[i] + mu[i]) * T[i],\n",
        "                                       torch.log(mu[i]) - (Lambda[i] + mu[i]) * t[i]\n",
        "                                       )\n",
        "  return target"
      ],
      "metadata": {
        "id": "vA_Jmj6FUCXt"
      },
      "execution_count": 41,
      "outputs": []
    },
    {
      "cell_type": "code",
      "source": [
        "def model(t, T, k):\n",
        "  '''\n",
        "  input:\n",
        "  t[n]  = time since most recent purchase\n",
        "  T[n]  = total observation time\n",
        "  k[n]  = number of purchases observed (k must be >= 2)\n",
        "\n",
        "  n, etau_alpha, etau_beta, Lambda_alpha, Lambda_beta are scalars\n",
        "  n = number of customers\n",
        "  etau_alpha, etau_beta are priors for etau\n",
        "  Lambda_alpha, Lambda_beta are priors for Lambda\n",
        "  '''\n",
        "\n",
        "\n",
        "  with pyro.plate(\"data\", t.size(0)):\n",
        "    etau  = pyro.sample('etau', dist.InverseGamma(etau_alpha, etau_beta))\n",
        "    mu = 1./etau\n",
        "    Lambda = pyro.sample('Lambda', dist.Gamma(Lambda_alpha, Lambda_beta))\n",
        "\n",
        "  pyro.factor('loglik', loglik(Lambda, mu, t, T, k))"
      ],
      "metadata": {
        "id": "UbZZAZQJfbb-"
      },
      "execution_count": null,
      "outputs": []
    },
    {
      "cell_type": "code",
      "source": [
        ""
      ],
      "metadata": {
        "id": "qN0a8ZjMa4H4"
      },
      "execution_count": null,
      "outputs": []
    },
    {
      "cell_type": "code",
      "source": [
        ""
      ],
      "metadata": {
        "id": "k5sSaGJthRW1"
      },
      "execution_count": null,
      "outputs": []
    },
    {
      "cell_type": "code",
      "source": [
        ""
      ],
      "metadata": {
        "id": "7CBnPcwahRS7"
      },
      "execution_count": null,
      "outputs": []
    },
    {
      "cell_type": "code",
      "source": [
        ""
      ],
      "metadata": {
        "id": "jdbkxzLohRPE"
      },
      "execution_count": null,
      "outputs": []
    },
    {
      "cell_type": "code",
      "source": [
        ""
      ],
      "metadata": {
        "id": "rbRoI1RthRK0"
      },
      "execution_count": null,
      "outputs": []
    },
    {
      "cell_type": "code",
      "source": [
        "Centered BTYD\n",
        "# https://www.briancallander.com/posts/customer_lifetime_value/models/rf.stan\n",
        "# data_hyperpriors <- list(\n",
        "#   log_life_mean_mu = log(31),\n",
        "#   log_life_mean_sigma = 0.7,\n",
        "#   log_life_scale_sigma = 0.8,\n",
        "\n",
        "#   log_lambda_mean_mu = log(1 / 14),\n",
        "#   log_lambda_mean_sigma = 0.3,\n",
        "#   log_lambda_scale_sigma = 0.5\n",
        "# )\n",
        "data {\n",
        "  int<lower = 1> n;       // number of customers\n",
        "  vector<lower = 0>[n] t; // time to most recent purchase\n",
        "  vector<lower = 0>[n] T; // total observation time\n",
        "  vector<lower = 0>[n] k; // number of purchases observed\n",
        "\n",
        "  // user-specified parameters\n",
        "  real<lower = 0> etau_mean_alpha;\n",
        "  real<lower = 0> etau_mean_beta;\n",
        "  real<lower = 0> etau_sd_alpha;\n",
        "  real<lower = 0> etau_sd_beta;\n",
        "\n",
        "  real<lower = 0> lambda_mean_alpha;\n",
        "  real<lower = 0> lambda_mean_beta;\n",
        "  real<lower = 0> lambda_sd_alpha;\n",
        "  real<lower = 0> lambda_sd_beta;\n",
        "}\n",
        "\n",
        "parameters {\n",
        "  vector<lower = 0>[n] lambda; // purchase rate\n",
        "  vector<lower = 0>[n] etau;   // expected mean lifetime\n",
        "\n",
        "  vector<lower = 0>[n] etau_mean; // mean expected life span\n",
        "  vector<lower = 0>[n] etau_sd;\n",
        "  vector<lower = 0>[n] lambda_mean; // mean purchase rate\n",
        "  vector<lower = 0>[n] lambda_sd;\n",
        "\n",
        "}\n",
        "\n",
        "transformed parameters {\n",
        "  vector<lower = 0>[n] etau_beta = etau_mean;\n",
        "  vector<lower = 0>[n] etau_alpha = etau_sd;\n",
        "  vector<lower = 0>[n] lambda_beta = lambda_mean ./ (lambda_sd .* lambda_sd);\n",
        "  vector<lower = 0>[n] lambda_alpha = lambda_beta .* lambda_mean;\n",
        "\n",
        "  vector<lower = 0>[n] mu = 1.0 ./ etau;\n",
        "}\n",
        "\n",
        "model {\n",
        "  // hyperpriors\n",
        "  etau_mean ~ gamma(etau_mean_alpha, etau_mean_beta);\n",
        "  etau_sd ~ gamma(etau_sd_alpha, etau_sd_beta);\n",
        "\n",
        "  lambda_mean ~ gamma(lambda_mean_alpha, lambda_mean_beta);\n",
        "  lambda_sd ~ gamma(lambda_sd_alpha, lambda_sd_beta);\n",
        "\n",
        "  // priors\n",
        "  etau ~ inv_gamma(etau_alpha, etau_beta);\n",
        "  lambda ~ gamma(lambda_alpha, lambda_beta);\n",
        "\n",
        "  // likelihood\n",
        "  target += k .* log(lambda) - log(lambda + mu);\n",
        "  for (i in 1:n) {\n",
        "    target += log_sum_exp(\n",
        "      log(lambda[i]) - (lambda[i] + mu[i]) .* T[i],\n",
        "      log(mu[i]) - (lambda[i] + mu[i]) .* t[i]\n",
        "    );\n",
        "  }\n",
        "}\n"
      ],
      "metadata": {
        "id": "Sme-1n-EhRG8"
      },
      "execution_count": null,
      "outputs": []
    },
    {
      "cell_type": "code",
      "source": [
        "# non-centered BTYD\n",
        "# https://www.briancallander.com/posts/customer_lifetime_value/recency_frequency.html\n",
        "# https://www.briancallander.com/posts/customer_lifetime_value/models/rf_noncentred.stan\n",
        "\n",
        "data {\n",
        "  int<lower = 1> n;       // number of customers\n",
        "  vector<lower = 0>[n] t; // time between first and last purchase\n",
        "  vector<lower = 0>[n] T; // total observation time\n",
        "  vector<lower = 0>[n] k; // number of purchases\n",
        "\n",
        "  // hyperparameters for the expected lifetime\n",
        "  real log_life_mean_mu;\n",
        "  real<lower = 0> log_life_mean_sigma;\n",
        "  // hyperparameter for scale of customer-level lifetime effects\n",
        "  real<lower = 0> log_life_scale_sigma;\n",
        "\n",
        "  // hyperparameters for the expected purchase rate\n",
        "  real log_lambda_mean_mu;\n",
        "  real<lower = 0> log_lambda_mean_sigma;\n",
        "  // hyperparameter for scale of customer-level purchase-rate effects\n",
        "  real<lower = 0> log_lambda_scale_sigma;\n",
        "\n",
        "  // flag whether to only sample from the prior\n",
        "  // to draw from the prior-predictive distribution: prior_only = 1\n",
        "  // to draw from the posterior distribution: prior_only = 0\n",
        "  int<lower = 0, upper = 1> prior_only;\n",
        "}\n",
        "\n",
        "transformed data {\n",
        "  vector<lower = 0, upper = 0>[2] zero = rep_vector(0, 2);\n",
        "  vector[2] J = [-1, 1]';\n",
        "  vector[2] m = [log_life_mean_mu, log_lambda_mean_mu]';\n",
        "  matrix<lower = 0>[2, 2] m_sigma = diag_matrix([log_life_mean_sigma, log_lambda_mean_sigma]');\n",
        "  matrix<lower = 0>[2, 2] s_sigma = diag_matrix([log_life_scale_sigma, log_lambda_scale_sigma]');\n",
        "}\n",
        "\n",
        "parameters {\n",
        "  row_vector[2] log_centres;\n",
        "  vector<lower = 0>[2] scales;\n",
        "  matrix[n, 2] customer; // customer-level effects\n",
        "}\n",
        "\n",
        "transformed parameters {\n",
        "  matrix<lower = 0>[n, 2] theta = exp(\n",
        "    diag_post_multiply(\n",
        "      rep_matrix(log_centres, n) + diag_post_multiply(customer, scales),\n",
        "      J\n",
        "    )\n",
        "  ); // (mu, lambda)\n",
        "}\n",
        "\n",
        "model {\n",
        "  // priors\n",
        "  log_centres ~ multi_normal_cholesky(m, m_sigma);\n",
        "  scales ~ multi_normal_cholesky(zero, s_sigma);\n",
        "\n",
        "  for (i in 1:n) {\n",
        "\n",
        "    customer[i, ] ~ std_normal();\n",
        "\n",
        "    // likelihood\n",
        "    if (prior_only == 0) {\n",
        "      target += log_sum_exp(\n",
        "        log(theta[i, 2]) - (theta[i, 2] + theta[i, 1]) .* T[i],\n",
        "        log(theta[i, 1]) - (theta[i, 2] + theta[i, 1]) .* t[i]\n",
        "      );\n",
        "    }\n",
        "  }\n",
        "\n",
        "  if (prior_only == 0) {\n",
        "    target += k .* log(theta[, 2]) - log(theta[, 2] + theta[, 1]);\n",
        "  }\n",
        "\n",
        "}\n"
      ],
      "metadata": {
        "id": "Ro27nMERhRC0"
      },
      "execution_count": null,
      "outputs": []
    },
    {
      "cell_type": "code",
      "source": [
        ""
      ],
      "metadata": {
        "id": "Z0rsJXyYhQ-l"
      },
      "execution_count": null,
      "outputs": []
    },
    {
      "cell_type": "code",
      "source": [
        ""
      ],
      "metadata": {
        "id": "FH8phAQghQ6M"
      },
      "execution_count": null,
      "outputs": []
    },
    {
      "cell_type": "code",
      "source": [
        ""
      ],
      "metadata": {
        "id": "zEmNp40EhQ08"
      },
      "execution_count": null,
      "outputs": []
    },
    {
      "cell_type": "code",
      "source": [
        ""
      ],
      "metadata": {
        "id": "flVVOL4xhQv1"
      },
      "execution_count": null,
      "outputs": []
    },
    {
      "cell_type": "code",
      "source": [
        ""
      ],
      "metadata": {
        "id": "wdwtKGxghQoZ"
      },
      "execution_count": null,
      "outputs": []
    },
    {
      "cell_type": "code",
      "source": [
        ""
      ],
      "metadata": {
        "id": "z-qcdufPhQd4"
      },
      "execution_count": null,
      "outputs": []
    }
  ]
}